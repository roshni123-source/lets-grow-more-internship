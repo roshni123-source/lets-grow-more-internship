{
 "cells": [
  {
   "cell_type": "markdown",
   "id": "51655dd0",
   "metadata": {
    "papermill": {
     "duration": 0.010493,
     "end_time": "2022-09-20T18:25:25.434123",
     "exception": false,
     "start_time": "2022-09-20T18:25:25.423630",
     "status": "completed"
    },
    "tags": []
   },
   "source": [
    "# **Load Libraries**"
   ]
  },
  {
   "cell_type": "code",
   "execution_count": 1,
   "id": "bcf72a6e",
   "metadata": {
    "execution": {
     "iopub.execute_input": "2022-09-20T18:25:25.453680Z",
     "iopub.status.busy": "2022-09-20T18:25:25.453175Z",
     "iopub.status.idle": "2022-09-20T18:25:25.464250Z",
     "shell.execute_reply": "2022-09-20T18:25:25.463129Z"
    },
    "papermill": {
     "duration": 0.023723,
     "end_time": "2022-09-20T18:25:25.466615",
     "exception": false,
     "start_time": "2022-09-20T18:25:25.442892",
     "status": "completed"
    },
    "tags": []
   },
   "outputs": [],
   "source": [
    "import pandas as pd\n",
    "import numpy as np\n",
    "pd.set_option('display.max_columns', None)\n",
    "import warnings\n",
    "warnings.filterwarnings('ignore')"
   ]
  },
  {
   "cell_type": "code",
   "execution_count": 2,
   "id": "40489019",
   "metadata": {
    "execution": {
     "iopub.execute_input": "2022-09-20T18:25:25.485831Z",
     "iopub.status.busy": "2022-09-20T18:25:25.485154Z",
     "iopub.status.idle": "2022-09-20T18:25:26.627706Z",
     "shell.execute_reply": "2022-09-20T18:25:26.626365Z"
    },
    "papermill": {
     "duration": 1.155437,
     "end_time": "2022-09-20T18:25:26.630590",
     "exception": false,
     "start_time": "2022-09-20T18:25:25.475153",
     "status": "completed"
    },
    "tags": []
   },
   "outputs": [],
   "source": [
    "import string\n",
    "import math\n",
    "import missingno as msno\n",
    "\n",
    "import matplotlib.pyplot as plt\n",
    "import seaborn as sns\n",
    "%matplotlib inline"
   ]
  },
  {
   "cell_type": "code",
   "execution_count": 3,
   "id": "e672dd48",
   "metadata": {
    "execution": {
     "iopub.execute_input": "2022-09-20T18:25:26.649563Z",
     "iopub.status.busy": "2022-09-20T18:25:26.649178Z",
     "iopub.status.idle": "2022-09-20T18:25:28.281622Z",
     "shell.execute_reply": "2022-09-20T18:25:28.280534Z"
    },
    "papermill": {
     "duration": 1.644973,
     "end_time": "2022-09-20T18:25:28.284329",
     "exception": false,
     "start_time": "2022-09-20T18:25:26.639356",
     "status": "completed"
    },
    "tags": []
   },
   "outputs": [
    {
     "data": {
      "text/html": [
       "<style type='text/css'>\n",
       ".datatable table.frame { margin-bottom: 0; }\n",
       ".datatable table.frame thead { border-bottom: none; }\n",
       ".datatable table.frame tr.coltypes td {  color: #FFFFFF;  line-height: 6px;  padding: 0 0.5em;}\n",
       ".datatable .bool    { background: #DDDD99; }\n",
       ".datatable .object  { background: #565656; }\n",
       ".datatable .int     { background: #5D9E5D; }\n",
       ".datatable .float   { background: #4040CC; }\n",
       ".datatable .str     { background: #CC4040; }\n",
       ".datatable .time    { background: #40CC40; }\n",
       ".datatable .row_index {  background: var(--jp-border-color3);  border-right: 1px solid var(--jp-border-color0);  color: var(--jp-ui-font-color3);  font-size: 9px;}\n",
       ".datatable .frame tbody td { text-align: left; }\n",
       ".datatable .frame tr.coltypes .row_index {  background: var(--jp-border-color0);}\n",
       ".datatable th:nth-child(2) { padding-left: 12px; }\n",
       ".datatable .hellipsis {  color: var(--jp-cell-editor-border-color);}\n",
       ".datatable .vellipsis {  background: var(--jp-layout-color0);  color: var(--jp-cell-editor-border-color);}\n",
       ".datatable .na {  color: var(--jp-cell-editor-border-color);  font-size: 80%;}\n",
       ".datatable .sp {  opacity: 0.25;}\n",
       ".datatable .footer { font-size: 9px; }\n",
       ".datatable .frame_dimensions {  background: var(--jp-border-color3);  border-top: 1px solid var(--jp-border-color0);  color: var(--jp-ui-font-color3);  display: inline-block;  opacity: 0.6;  padding: 1px 10px 1px 5px;}\n",
       "</style>\n"
      ],
      "text/plain": [
       "<IPython.core.display.HTML object>"
      ]
     },
     "metadata": {},
     "output_type": "display_data"
    }
   ],
   "source": [
    "from sklearn.model_selection import train_test_split, GridSearchCV, RandomizedSearchCV, StratifiedKFold\n",
    "from sklearn.metrics import roc_curve, roc_auc_score, accuracy_score, confusion_matrix, classification_report\n",
    "from sklearn.preprocessing import LabelEncoder, OneHotEncoder, MinMaxScaler\n",
    "from sklearn.ensemble import RandomForestClassifier, ExtraTreesClassifier\n",
    "\n",
    "import lightgbm as lgbm\n",
    "import xgboost as xgb\n",
    "import catboost as cb"
   ]
  },
  {
   "cell_type": "markdown",
   "id": "0c4102b6",
   "metadata": {
    "papermill": {
     "duration": 0.008277,
     "end_time": "2022-09-20T18:25:28.301347",
     "exception": false,
     "start_time": "2022-09-20T18:25:28.293070",
     "status": "completed"
    },
    "tags": []
   },
   "source": [
    "# **Load Datasets**"
   ]
  },
  {
   "cell_type": "code",
   "execution_count": 4,
   "id": "44482a99",
   "metadata": {
    "execution": {
     "iopub.execute_input": "2022-09-20T18:25:28.322103Z",
     "iopub.status.busy": "2022-09-20T18:25:28.321675Z",
     "iopub.status.idle": "2022-09-20T18:25:45.639871Z",
     "shell.execute_reply": "2022-09-20T18:25:45.638516Z"
    },
    "papermill": {
     "duration": 17.331316,
     "end_time": "2022-09-20T18:25:45.642729",
     "exception": false,
     "start_time": "2022-09-20T18:25:28.311413",
     "status": "completed"
    },
    "tags": []
   },
   "outputs": [
    {
     "name": "stdout",
     "output_type": "stream",
     "text": [
      "Collecting py7zr\r\n",
      "  Downloading py7zr-0.20.0-py3-none-any.whl (64 kB)\r\n",
      "\u001b[2K     \u001b[90m━━━━━━━━━━━━━━━━━━━━━━━━━━━━━━━━━━━━━━━\u001b[0m \u001b[32m65.0/65.0 kB\u001b[0m \u001b[31m528.1 kB/s\u001b[0m eta \u001b[36m0:00:00\u001b[0m\r\n",
      "\u001b[?25hRequirement already satisfied: texttable in /opt/conda/lib/python3.7/site-packages (from py7zr) (1.6.4)\r\n",
      "Collecting pycryptodomex>=3.6.6\r\n",
      "  Downloading pycryptodomex-3.15.0-cp35-abi3-manylinux2010_x86_64.whl (2.3 MB)\r\n",
      "\u001b[2K     \u001b[90m━━━━━━━━━━━━━━━━━━━━━━━━━━━━━━━━━━━━━━━━\u001b[0m \u001b[32m2.3/2.3 MB\u001b[0m \u001b[31m6.0 MB/s\u001b[0m eta \u001b[36m0:00:00\u001b[0m\r\n",
      "\u001b[?25hCollecting brotli>=1.0.9\r\n",
      "  Downloading Brotli-1.0.9-cp37-cp37m-manylinux1_x86_64.whl (357 kB)\r\n",
      "\u001b[2K     \u001b[90m━━━━━━━━━━━━━━━━━━━━━━━━━━━━━━━━━━━━━━\u001b[0m \u001b[32m357.2/357.2 kB\u001b[0m \u001b[31m18.9 MB/s\u001b[0m eta \u001b[36m0:00:00\u001b[0m\r\n",
      "\u001b[?25hCollecting pyppmd<0.19.0,>=0.18.1\r\n",
      "  Downloading pyppmd-0.18.3-cp37-cp37m-manylinux_2_17_x86_64.manylinux2014_x86_64.whl (138 kB)\r\n",
      "\u001b[2K     \u001b[90m━━━━━━━━━━━━━━━━━━━━━━━━━━━━━━━━━━━━━━━\u001b[0m \u001b[32m138.6/138.6 kB\u001b[0m \u001b[31m9.3 MB/s\u001b[0m eta \u001b[36m0:00:00\u001b[0m\r\n",
      "\u001b[?25hRequirement already satisfied: psutil in /opt/conda/lib/python3.7/site-packages (from py7zr) (5.9.1)\r\n",
      "Collecting pybcj>=0.6.0\r\n",
      "  Downloading pybcj-1.0.1-cp37-cp37m-manylinux_2_17_x86_64.manylinux2014_x86_64.whl (50 kB)\r\n",
      "\u001b[2K     \u001b[90m━━━━━━━━━━━━━━━━━━━━━━━━━━━━━━━━━━━━━━━━\u001b[0m \u001b[32m50.5/50.5 kB\u001b[0m \u001b[31m3.7 MB/s\u001b[0m eta \u001b[36m0:00:00\u001b[0m\r\n",
      "\u001b[?25hCollecting pyzstd>=0.14.4\r\n",
      "  Downloading pyzstd-0.15.3-cp37-cp37m-manylinux_2_17_x86_64.manylinux2014_x86_64.whl (379 kB)\r\n",
      "\u001b[2K     \u001b[90m━━━━━━━━━━━━━━━━━━━━━━━━━━━━━━━━━━━━━━\u001b[0m \u001b[32m379.2/379.2 kB\u001b[0m \u001b[31m20.2 MB/s\u001b[0m eta \u001b[36m0:00:00\u001b[0m\r\n",
      "\u001b[?25hCollecting multivolumefile>=0.2.3\r\n",
      "  Downloading multivolumefile-0.2.3-py3-none-any.whl (17 kB)\r\n",
      "Requirement already satisfied: importlib-metadata in /opt/conda/lib/python3.7/site-packages (from py7zr) (4.12.0)\r\n",
      "Collecting inflate64>=0.3.0\r\n",
      "  Downloading inflate64-0.3.0-cp37-cp37m-manylinux_2_17_x86_64.manylinux2014_x86_64.whl (92 kB)\r\n",
      "\u001b[2K     \u001b[90m━━━━━━━━━━━━━━━━━━━━━━━━━━━━━━━━━━━━━━━━\u001b[0m \u001b[32m92.1/92.1 kB\u001b[0m \u001b[31m6.7 MB/s\u001b[0m eta \u001b[36m0:00:00\u001b[0m\r\n",
      "\u001b[?25hRequirement already satisfied: zipp>=0.5 in /opt/conda/lib/python3.7/site-packages (from importlib-metadata->py7zr) (3.8.0)\r\n",
      "Requirement already satisfied: typing-extensions>=3.6.4 in /opt/conda/lib/python3.7/site-packages (from importlib-metadata->py7zr) (4.3.0)\r\n",
      "Installing collected packages: brotli, pyzstd, pyppmd, pycryptodomex, multivolumefile, pybcj, inflate64, py7zr\r\n",
      "Successfully installed brotli-1.0.9 inflate64-0.3.0 multivolumefile-0.2.3 py7zr-0.20.0 pybcj-1.0.1 pycryptodomex-3.15.0 pyppmd-0.18.3 pyzstd-0.15.3\r\n",
      "\u001b[33mWARNING: Running pip as the 'root' user can result in broken permissions and conflicting behaviour with the system package manager. It is recommended to use a virtual environment instead: https://pip.pypa.io/warnings/venv\u001b[0m\u001b[33m\r\n",
      "\u001b[0m"
     ]
    }
   ],
   "source": [
    "!pip install py7zr\n",
    "import py7zr"
   ]
  },
  {
   "cell_type": "code",
   "execution_count": 5,
   "id": "f8e0ffb6",
   "metadata": {
    "execution": {
     "iopub.execute_input": "2022-09-20T18:25:45.667680Z",
     "iopub.status.busy": "2022-09-20T18:25:45.667208Z",
     "iopub.status.idle": "2022-09-20T18:26:32.822935Z",
     "shell.execute_reply": "2022-09-20T18:26:32.821781Z"
    },
    "papermill": {
     "duration": 47.171275,
     "end_time": "2022-09-20T18:26:32.825694",
     "exception": false,
     "start_time": "2022-09-20T18:25:45.654419",
     "status": "completed"
    },
    "tags": []
   },
   "outputs": [],
   "source": [
    "archive1=py7zr.SevenZipFile('../input/kkbox-music-recommendation-challenge/songs.csv.7z', mode='r')\n",
    "archive1.extractall(path=\"/kaggle/temp\")\n",
    "\n",
    "archive2=py7zr.SevenZipFile('../input/kkbox-music-recommendation-challenge/song_extra_info.csv.7z', mode='r')\n",
    "archive2.extractall(path=\"/kaggle/temp\")\n",
    "\n",
    "archive3=py7zr.SevenZipFile('../input/kkbox-music-recommendation-challenge/members.csv.7z', mode='r')\n",
    "archive3.extractall(path=\"/kaggle/temp\")\n",
    "\n",
    "archive4=py7zr.SevenZipFile('../input/kkbox-music-recommendation-challenge/test.csv.7z', mode='r')\n",
    "archive4.extractall(path=\"/kaggle/temp\")\n",
    "\n",
    "archive5=py7zr.SevenZipFile('../input/kkbox-music-recommendation-challenge/train.csv.7z', mode='r')\n",
    "archive5.extractall(path=\"/kaggle/temp\")"
   ]
  },
  {
   "cell_type": "code",
   "execution_count": 6,
   "id": "96f7268b",
   "metadata": {
    "execution": {
     "iopub.execute_input": "2022-09-20T18:26:32.850709Z",
     "iopub.status.busy": "2022-09-20T18:26:32.849674Z",
     "iopub.status.idle": "2022-09-20T18:26:32.857380Z",
     "shell.execute_reply": "2022-09-20T18:26:32.856213Z"
    },
    "papermill": {
     "duration": 0.022814,
     "end_time": "2022-09-20T18:26:32.859728",
     "exception": false,
     "start_time": "2022-09-20T18:26:32.836914",
     "status": "completed"
    },
    "tags": []
   },
   "outputs": [
    {
     "data": {
      "text/plain": [
       "['songs.csv', 'song_extra_info.csv', 'members.csv', 'train.csv', 'test.csv']"
      ]
     },
     "execution_count": 6,
     "metadata": {},
     "output_type": "execute_result"
    }
   ],
   "source": [
    "import os\n",
    "os.listdir('/kaggle/temp/')"
   ]
  },
  {
   "cell_type": "code",
   "execution_count": 7,
   "id": "aab7e9b8",
   "metadata": {
    "execution": {
     "iopub.execute_input": "2022-09-20T18:26:32.883383Z",
     "iopub.status.busy": "2022-09-20T18:26:32.882972Z",
     "iopub.status.idle": "2022-09-20T18:26:46.800033Z",
     "shell.execute_reply": "2022-09-20T18:26:46.798738Z"
    },
    "papermill": {
     "duration": 13.939408,
     "end_time": "2022-09-20T18:26:46.810085",
     "exception": false,
     "start_time": "2022-09-20T18:26:32.870677",
     "status": "completed"
    },
    "tags": []
   },
   "outputs": [],
   "source": [
    "songs_df = pd.read_csv(\"/kaggle/temp/songs.csv\")\n",
    "song_extra_df = pd.read_csv('/kaggle/temp/song_extra_info.csv')\n",
    "members_df = pd.read_csv(\"/kaggle/temp/members.csv\")\n",
    "train_df = pd.read_csv(\"/kaggle/temp/train.csv\", nrows = 100000)"
   ]
  },
  {
   "cell_type": "code",
   "execution_count": 8,
   "id": "41b428a2",
   "metadata": {
    "execution": {
     "iopub.execute_input": "2022-09-20T18:26:46.848440Z",
     "iopub.status.busy": "2022-09-20T18:26:46.847041Z",
     "iopub.status.idle": "2022-09-20T18:26:46.887401Z",
     "shell.execute_reply": "2022-09-20T18:26:46.886121Z"
    },
    "papermill": {
     "duration": 0.062665,
     "end_time": "2022-09-20T18:26:46.890295",
     "exception": false,
     "start_time": "2022-09-20T18:26:46.827630",
     "status": "completed"
    },
    "tags": []
   },
   "outputs": [
    {
     "data": {
      "text/html": [
       "<div>\n",
       "<style scoped>\n",
       "    .dataframe tbody tr th:only-of-type {\n",
       "        vertical-align: middle;\n",
       "    }\n",
       "\n",
       "    .dataframe tbody tr th {\n",
       "        vertical-align: top;\n",
       "    }\n",
       "\n",
       "    .dataframe thead th {\n",
       "        text-align: right;\n",
       "    }\n",
       "</style>\n",
       "<table border=\"1\" class=\"dataframe\">\n",
       "  <thead>\n",
       "    <tr style=\"text-align: right;\">\n",
       "      <th></th>\n",
       "      <th>song_id</th>\n",
       "      <th>song_length</th>\n",
       "      <th>genre_ids</th>\n",
       "      <th>artist_name</th>\n",
       "      <th>composer</th>\n",
       "      <th>lyricist</th>\n",
       "      <th>language</th>\n",
       "    </tr>\n",
       "  </thead>\n",
       "  <tbody>\n",
       "    <tr>\n",
       "      <th>0</th>\n",
       "      <td>CXoTN1eb7AI+DntdU1vbcwGRV4SCIDxZu+YD8JP8r4E=</td>\n",
       "      <td>247640</td>\n",
       "      <td>465</td>\n",
       "      <td>張信哲 (Jeff Chang)</td>\n",
       "      <td>董貞</td>\n",
       "      <td>何啟弘</td>\n",
       "      <td>3.0</td>\n",
       "    </tr>\n",
       "    <tr>\n",
       "      <th>1</th>\n",
       "      <td>o0kFgae9QtnYgRkVPqLJwa05zIhRlUjfF7O1tDw0ZDU=</td>\n",
       "      <td>197328</td>\n",
       "      <td>444</td>\n",
       "      <td>BLACKPINK</td>\n",
       "      <td>TEDDY|  FUTURE BOUNCE|  Bekuh BOOM</td>\n",
       "      <td>TEDDY</td>\n",
       "      <td>31.0</td>\n",
       "    </tr>\n",
       "    <tr>\n",
       "      <th>2</th>\n",
       "      <td>DwVvVurfpuz+XPuFvucclVQEyPqcpUkHR0ne1RQzPs0=</td>\n",
       "      <td>231781</td>\n",
       "      <td>465</td>\n",
       "      <td>SUPER JUNIOR</td>\n",
       "      <td>NaN</td>\n",
       "      <td>NaN</td>\n",
       "      <td>31.0</td>\n",
       "    </tr>\n",
       "    <tr>\n",
       "      <th>3</th>\n",
       "      <td>dKMBWoZyScdxSkihKG+Vf47nc18N9q4m58+b4e7dSSE=</td>\n",
       "      <td>273554</td>\n",
       "      <td>465</td>\n",
       "      <td>S.H.E</td>\n",
       "      <td>湯小康</td>\n",
       "      <td>徐世珍</td>\n",
       "      <td>3.0</td>\n",
       "    </tr>\n",
       "    <tr>\n",
       "      <th>4</th>\n",
       "      <td>W3bqWd3T+VeHFzHAUfARgW9AvVRaF4N5Yzm4Mr6Eo/o=</td>\n",
       "      <td>140329</td>\n",
       "      <td>726</td>\n",
       "      <td>貴族精選</td>\n",
       "      <td>Traditional</td>\n",
       "      <td>Traditional</td>\n",
       "      <td>52.0</td>\n",
       "    </tr>\n",
       "  </tbody>\n",
       "</table>\n",
       "</div>"
      ],
      "text/plain": [
       "                                        song_id  song_length genre_ids  \\\n",
       "0  CXoTN1eb7AI+DntdU1vbcwGRV4SCIDxZu+YD8JP8r4E=       247640       465   \n",
       "1  o0kFgae9QtnYgRkVPqLJwa05zIhRlUjfF7O1tDw0ZDU=       197328       444   \n",
       "2  DwVvVurfpuz+XPuFvucclVQEyPqcpUkHR0ne1RQzPs0=       231781       465   \n",
       "3  dKMBWoZyScdxSkihKG+Vf47nc18N9q4m58+b4e7dSSE=       273554       465   \n",
       "4  W3bqWd3T+VeHFzHAUfARgW9AvVRaF4N5Yzm4Mr6Eo/o=       140329       726   \n",
       "\n",
       "        artist_name                            composer     lyricist  language  \n",
       "0  張信哲 (Jeff Chang)                                  董貞          何啟弘       3.0  \n",
       "1         BLACKPINK  TEDDY|  FUTURE BOUNCE|  Bekuh BOOM        TEDDY      31.0  \n",
       "2      SUPER JUNIOR                                 NaN          NaN      31.0  \n",
       "3             S.H.E                                 湯小康          徐世珍       3.0  \n",
       "4              貴族精選                         Traditional  Traditional      52.0  "
      ]
     },
     "execution_count": 8,
     "metadata": {},
     "output_type": "execute_result"
    }
   ],
   "source": [
    "songs_df.head()"
   ]
  },
  {
   "cell_type": "code",
   "execution_count": 9,
   "id": "9f593aca",
   "metadata": {
    "execution": {
     "iopub.execute_input": "2022-09-20T18:26:46.916146Z",
     "iopub.status.busy": "2022-09-20T18:26:46.915619Z",
     "iopub.status.idle": "2022-09-20T18:26:46.939244Z",
     "shell.execute_reply": "2022-09-20T18:26:46.936481Z"
    },
    "papermill": {
     "duration": 0.041478,
     "end_time": "2022-09-20T18:26:46.944030",
     "exception": false,
     "start_time": "2022-09-20T18:26:46.902552",
     "status": "completed"
    },
    "tags": []
   },
   "outputs": [
    {
     "data": {
      "text/html": [
       "<div>\n",
       "<style scoped>\n",
       "    .dataframe tbody tr th:only-of-type {\n",
       "        vertical-align: middle;\n",
       "    }\n",
       "\n",
       "    .dataframe tbody tr th {\n",
       "        vertical-align: top;\n",
       "    }\n",
       "\n",
       "    .dataframe thead th {\n",
       "        text-align: right;\n",
       "    }\n",
       "</style>\n",
       "<table border=\"1\" class=\"dataframe\">\n",
       "  <thead>\n",
       "    <tr style=\"text-align: right;\">\n",
       "      <th></th>\n",
       "      <th>msno</th>\n",
       "      <th>song_id</th>\n",
       "      <th>source_system_tab</th>\n",
       "      <th>source_screen_name</th>\n",
       "      <th>source_type</th>\n",
       "      <th>target</th>\n",
       "    </tr>\n",
       "  </thead>\n",
       "  <tbody>\n",
       "    <tr>\n",
       "      <th>0</th>\n",
       "      <td>FGtllVqz18RPiwJj/edr2gV78zirAiY/9SmYvia+kCg=</td>\n",
       "      <td>BBzumQNXUHKdEBOB7mAJuzok+IJA1c2Ryg/yzTF6tik=</td>\n",
       "      <td>explore</td>\n",
       "      <td>Explore</td>\n",
       "      <td>online-playlist</td>\n",
       "      <td>1</td>\n",
       "    </tr>\n",
       "    <tr>\n",
       "      <th>1</th>\n",
       "      <td>Xumu+NIjS6QYVxDS4/t3SawvJ7viT9hPKXmf0RtLNx8=</td>\n",
       "      <td>bhp/MpSNoqoxOIB+/l8WPqu6jldth4DIpCm3ayXnJqM=</td>\n",
       "      <td>my library</td>\n",
       "      <td>Local playlist more</td>\n",
       "      <td>local-playlist</td>\n",
       "      <td>1</td>\n",
       "    </tr>\n",
       "    <tr>\n",
       "      <th>2</th>\n",
       "      <td>Xumu+NIjS6QYVxDS4/t3SawvJ7viT9hPKXmf0RtLNx8=</td>\n",
       "      <td>JNWfrrC7zNN7BdMpsISKa4Mw+xVJYNnxXh3/Epw7QgY=</td>\n",
       "      <td>my library</td>\n",
       "      <td>Local playlist more</td>\n",
       "      <td>local-playlist</td>\n",
       "      <td>1</td>\n",
       "    </tr>\n",
       "    <tr>\n",
       "      <th>3</th>\n",
       "      <td>Xumu+NIjS6QYVxDS4/t3SawvJ7viT9hPKXmf0RtLNx8=</td>\n",
       "      <td>2A87tzfnJTSWqD7gIZHisolhe4DMdzkbd6LzO1KHjNs=</td>\n",
       "      <td>my library</td>\n",
       "      <td>Local playlist more</td>\n",
       "      <td>local-playlist</td>\n",
       "      <td>1</td>\n",
       "    </tr>\n",
       "    <tr>\n",
       "      <th>4</th>\n",
       "      <td>FGtllVqz18RPiwJj/edr2gV78zirAiY/9SmYvia+kCg=</td>\n",
       "      <td>3qm6XTZ6MOCU11x8FIVbAGH5l5uMkT3/ZalWG1oo2Gc=</td>\n",
       "      <td>explore</td>\n",
       "      <td>Explore</td>\n",
       "      <td>online-playlist</td>\n",
       "      <td>1</td>\n",
       "    </tr>\n",
       "  </tbody>\n",
       "</table>\n",
       "</div>"
      ],
      "text/plain": [
       "                                           msno  \\\n",
       "0  FGtllVqz18RPiwJj/edr2gV78zirAiY/9SmYvia+kCg=   \n",
       "1  Xumu+NIjS6QYVxDS4/t3SawvJ7viT9hPKXmf0RtLNx8=   \n",
       "2  Xumu+NIjS6QYVxDS4/t3SawvJ7viT9hPKXmf0RtLNx8=   \n",
       "3  Xumu+NIjS6QYVxDS4/t3SawvJ7viT9hPKXmf0RtLNx8=   \n",
       "4  FGtllVqz18RPiwJj/edr2gV78zirAiY/9SmYvia+kCg=   \n",
       "\n",
       "                                        song_id source_system_tab  \\\n",
       "0  BBzumQNXUHKdEBOB7mAJuzok+IJA1c2Ryg/yzTF6tik=           explore   \n",
       "1  bhp/MpSNoqoxOIB+/l8WPqu6jldth4DIpCm3ayXnJqM=        my library   \n",
       "2  JNWfrrC7zNN7BdMpsISKa4Mw+xVJYNnxXh3/Epw7QgY=        my library   \n",
       "3  2A87tzfnJTSWqD7gIZHisolhe4DMdzkbd6LzO1KHjNs=        my library   \n",
       "4  3qm6XTZ6MOCU11x8FIVbAGH5l5uMkT3/ZalWG1oo2Gc=           explore   \n",
       "\n",
       "    source_screen_name      source_type  target  \n",
       "0              Explore  online-playlist       1  \n",
       "1  Local playlist more   local-playlist       1  \n",
       "2  Local playlist more   local-playlist       1  \n",
       "3  Local playlist more   local-playlist       1  \n",
       "4              Explore  online-playlist       1  "
      ]
     },
     "execution_count": 9,
     "metadata": {},
     "output_type": "execute_result"
    }
   ],
   "source": [
    "train_df.head()"
   ]
  },
  {
   "cell_type": "code",
   "execution_count": 10,
   "id": "70db8146",
   "metadata": {
    "execution": {
     "iopub.execute_input": "2022-09-20T18:26:46.972980Z",
     "iopub.status.busy": "2022-09-20T18:26:46.972405Z",
     "iopub.status.idle": "2022-09-20T18:26:46.986130Z",
     "shell.execute_reply": "2022-09-20T18:26:46.984816Z"
    },
    "papermill": {
     "duration": 0.031365,
     "end_time": "2022-09-20T18:26:46.988420",
     "exception": false,
     "start_time": "2022-09-20T18:26:46.957055",
     "status": "completed"
    },
    "tags": []
   },
   "outputs": [
    {
     "data": {
      "text/html": [
       "<div>\n",
       "<style scoped>\n",
       "    .dataframe tbody tr th:only-of-type {\n",
       "        vertical-align: middle;\n",
       "    }\n",
       "\n",
       "    .dataframe tbody tr th {\n",
       "        vertical-align: top;\n",
       "    }\n",
       "\n",
       "    .dataframe thead th {\n",
       "        text-align: right;\n",
       "    }\n",
       "</style>\n",
       "<table border=\"1\" class=\"dataframe\">\n",
       "  <thead>\n",
       "    <tr style=\"text-align: right;\">\n",
       "      <th></th>\n",
       "      <th>song_id</th>\n",
       "      <th>name</th>\n",
       "      <th>isrc</th>\n",
       "    </tr>\n",
       "  </thead>\n",
       "  <tbody>\n",
       "    <tr>\n",
       "      <th>0</th>\n",
       "      <td>LP7pLJoJFBvyuUwvu+oLzjT+bI+UeBPURCecJsX1jjs=</td>\n",
       "      <td>我們</td>\n",
       "      <td>TWUM71200043</td>\n",
       "    </tr>\n",
       "    <tr>\n",
       "      <th>1</th>\n",
       "      <td>ClazTFnk6r0Bnuie44bocdNMM3rdlrq0bCGAsGUWcHE=</td>\n",
       "      <td>Let Me Love You</td>\n",
       "      <td>QMZSY1600015</td>\n",
       "    </tr>\n",
       "    <tr>\n",
       "      <th>2</th>\n",
       "      <td>u2ja/bZE3zhCGxvbbOB3zOoUjx27u40cf5g09UXMoKQ=</td>\n",
       "      <td>原諒我</td>\n",
       "      <td>TWA530887303</td>\n",
       "    </tr>\n",
       "    <tr>\n",
       "      <th>3</th>\n",
       "      <td>92Fqsy0+p6+RHe2EoLKjHahORHR1Kq1TBJoClW9v+Ts=</td>\n",
       "      <td>Classic</td>\n",
       "      <td>USSM11301446</td>\n",
       "    </tr>\n",
       "    <tr>\n",
       "      <th>4</th>\n",
       "      <td>0QFmz/+rJy1Q56C1DuYqT9hKKqi5TUqx0sN0IwvoHrw=</td>\n",
       "      <td>愛投羅網</td>\n",
       "      <td>TWA471306001</td>\n",
       "    </tr>\n",
       "  </tbody>\n",
       "</table>\n",
       "</div>"
      ],
      "text/plain": [
       "                                        song_id             name          isrc\n",
       "0  LP7pLJoJFBvyuUwvu+oLzjT+bI+UeBPURCecJsX1jjs=               我們  TWUM71200043\n",
       "1  ClazTFnk6r0Bnuie44bocdNMM3rdlrq0bCGAsGUWcHE=  Let Me Love You  QMZSY1600015\n",
       "2  u2ja/bZE3zhCGxvbbOB3zOoUjx27u40cf5g09UXMoKQ=              原諒我  TWA530887303\n",
       "3  92Fqsy0+p6+RHe2EoLKjHahORHR1Kq1TBJoClW9v+Ts=          Classic  USSM11301446\n",
       "4  0QFmz/+rJy1Q56C1DuYqT9hKKqi5TUqx0sN0IwvoHrw=             愛投羅網  TWA471306001"
      ]
     },
     "execution_count": 10,
     "metadata": {},
     "output_type": "execute_result"
    }
   ],
   "source": [
    "song_extra_df.head()"
   ]
  },
  {
   "cell_type": "code",
   "execution_count": 11,
   "id": "5bf54c6b",
   "metadata": {
    "execution": {
     "iopub.execute_input": "2022-09-20T18:26:47.015195Z",
     "iopub.status.busy": "2022-09-20T18:26:47.014697Z",
     "iopub.status.idle": "2022-09-20T18:26:47.028467Z",
     "shell.execute_reply": "2022-09-20T18:26:47.027199Z"
    },
    "papermill": {
     "duration": 0.030565,
     "end_time": "2022-09-20T18:26:47.030788",
     "exception": false,
     "start_time": "2022-09-20T18:26:47.000223",
     "status": "completed"
    },
    "tags": []
   },
   "outputs": [
    {
     "data": {
      "text/html": [
       "<div>\n",
       "<style scoped>\n",
       "    .dataframe tbody tr th:only-of-type {\n",
       "        vertical-align: middle;\n",
       "    }\n",
       "\n",
       "    .dataframe tbody tr th {\n",
       "        vertical-align: top;\n",
       "    }\n",
       "\n",
       "    .dataframe thead th {\n",
       "        text-align: right;\n",
       "    }\n",
       "</style>\n",
       "<table border=\"1\" class=\"dataframe\">\n",
       "  <thead>\n",
       "    <tr style=\"text-align: right;\">\n",
       "      <th></th>\n",
       "      <th>msno</th>\n",
       "      <th>city</th>\n",
       "      <th>bd</th>\n",
       "      <th>gender</th>\n",
       "      <th>registered_via</th>\n",
       "      <th>registration_init_time</th>\n",
       "      <th>expiration_date</th>\n",
       "    </tr>\n",
       "  </thead>\n",
       "  <tbody>\n",
       "    <tr>\n",
       "      <th>0</th>\n",
       "      <td>XQxgAYj3klVKjR3oxPPXYYFp4soD4TuBghkhMTD4oTw=</td>\n",
       "      <td>1</td>\n",
       "      <td>0</td>\n",
       "      <td>NaN</td>\n",
       "      <td>7</td>\n",
       "      <td>20110820</td>\n",
       "      <td>20170920</td>\n",
       "    </tr>\n",
       "    <tr>\n",
       "      <th>1</th>\n",
       "      <td>UizsfmJb9mV54qE9hCYyU07Va97c0lCRLEQX3ae+ztM=</td>\n",
       "      <td>1</td>\n",
       "      <td>0</td>\n",
       "      <td>NaN</td>\n",
       "      <td>7</td>\n",
       "      <td>20150628</td>\n",
       "      <td>20170622</td>\n",
       "    </tr>\n",
       "    <tr>\n",
       "      <th>2</th>\n",
       "      <td>D8nEhsIOBSoE6VthTaqDX8U6lqjJ7dLdr72mOyLya2A=</td>\n",
       "      <td>1</td>\n",
       "      <td>0</td>\n",
       "      <td>NaN</td>\n",
       "      <td>4</td>\n",
       "      <td>20160411</td>\n",
       "      <td>20170712</td>\n",
       "    </tr>\n",
       "    <tr>\n",
       "      <th>3</th>\n",
       "      <td>mCuD+tZ1hERA/o5GPqk38e041J8ZsBaLcu7nGoIIvhI=</td>\n",
       "      <td>1</td>\n",
       "      <td>0</td>\n",
       "      <td>NaN</td>\n",
       "      <td>9</td>\n",
       "      <td>20150906</td>\n",
       "      <td>20150907</td>\n",
       "    </tr>\n",
       "    <tr>\n",
       "      <th>4</th>\n",
       "      <td>q4HRBfVSssAFS9iRfxWrohxuk9kCYMKjHOEagUMV6rQ=</td>\n",
       "      <td>1</td>\n",
       "      <td>0</td>\n",
       "      <td>NaN</td>\n",
       "      <td>4</td>\n",
       "      <td>20170126</td>\n",
       "      <td>20170613</td>\n",
       "    </tr>\n",
       "  </tbody>\n",
       "</table>\n",
       "</div>"
      ],
      "text/plain": [
       "                                           msno  city  bd gender  \\\n",
       "0  XQxgAYj3klVKjR3oxPPXYYFp4soD4TuBghkhMTD4oTw=     1   0    NaN   \n",
       "1  UizsfmJb9mV54qE9hCYyU07Va97c0lCRLEQX3ae+ztM=     1   0    NaN   \n",
       "2  D8nEhsIOBSoE6VthTaqDX8U6lqjJ7dLdr72mOyLya2A=     1   0    NaN   \n",
       "3  mCuD+tZ1hERA/o5GPqk38e041J8ZsBaLcu7nGoIIvhI=     1   0    NaN   \n",
       "4  q4HRBfVSssAFS9iRfxWrohxuk9kCYMKjHOEagUMV6rQ=     1   0    NaN   \n",
       "\n",
       "   registered_via  registration_init_time  expiration_date  \n",
       "0               7                20110820         20170920  \n",
       "1               7                20150628         20170622  \n",
       "2               4                20160411         20170712  \n",
       "3               9                20150906         20150907  \n",
       "4               4                20170126         20170613  "
      ]
     },
     "execution_count": 11,
     "metadata": {},
     "output_type": "execute_result"
    }
   ],
   "source": [
    "members_df.head()"
   ]
  },
  {
   "cell_type": "code",
   "execution_count": 12,
   "id": "20039ffb",
   "metadata": {
    "execution": {
     "iopub.execute_input": "2022-09-20T18:26:47.056895Z",
     "iopub.status.busy": "2022-09-20T18:26:47.056212Z",
     "iopub.status.idle": "2022-09-20T18:26:53.692117Z",
     "shell.execute_reply": "2022-09-20T18:26:53.690608Z"
    },
    "papermill": {
     "duration": 6.651703,
     "end_time": "2022-09-20T18:26:53.694867",
     "exception": false,
     "start_time": "2022-09-20T18:26:47.043164",
     "status": "completed"
    },
    "tags": []
   },
   "outputs": [
    {
     "data": {
      "text/html": [
       "<div>\n",
       "<style scoped>\n",
       "    .dataframe tbody tr th:only-of-type {\n",
       "        vertical-align: middle;\n",
       "    }\n",
       "\n",
       "    .dataframe tbody tr th {\n",
       "        vertical-align: top;\n",
       "    }\n",
       "\n",
       "    .dataframe thead th {\n",
       "        text-align: right;\n",
       "    }\n",
       "</style>\n",
       "<table border=\"1\" class=\"dataframe\">\n",
       "  <thead>\n",
       "    <tr style=\"text-align: right;\">\n",
       "      <th></th>\n",
       "      <th>msno</th>\n",
       "      <th>song_id</th>\n",
       "      <th>source_system_tab</th>\n",
       "      <th>source_screen_name</th>\n",
       "      <th>source_type</th>\n",
       "      <th>target</th>\n",
       "      <th>song_length</th>\n",
       "      <th>genre_ids</th>\n",
       "      <th>artist_name</th>\n",
       "      <th>composer</th>\n",
       "      <th>lyricist</th>\n",
       "      <th>language</th>\n",
       "      <th>name</th>\n",
       "      <th>isrc</th>\n",
       "      <th>city</th>\n",
       "      <th>bd</th>\n",
       "      <th>gender</th>\n",
       "      <th>registered_via</th>\n",
       "      <th>registration_init_time</th>\n",
       "      <th>expiration_date</th>\n",
       "    </tr>\n",
       "  </thead>\n",
       "  <tbody>\n",
       "    <tr>\n",
       "      <th>0</th>\n",
       "      <td>FGtllVqz18RPiwJj/edr2gV78zirAiY/9SmYvia+kCg=</td>\n",
       "      <td>BBzumQNXUHKdEBOB7mAJuzok+IJA1c2Ryg/yzTF6tik=</td>\n",
       "      <td>explore</td>\n",
       "      <td>Explore</td>\n",
       "      <td>online-playlist</td>\n",
       "      <td>1</td>\n",
       "      <td>206471.0</td>\n",
       "      <td>359</td>\n",
       "      <td>Bastille</td>\n",
       "      <td>Dan Smith| Mark Crew</td>\n",
       "      <td>NaN</td>\n",
       "      <td>52.0</td>\n",
       "      <td>Good Grief</td>\n",
       "      <td>GBUM71602854</td>\n",
       "      <td>1</td>\n",
       "      <td>0</td>\n",
       "      <td>NaN</td>\n",
       "      <td>7</td>\n",
       "      <td>20120102</td>\n",
       "      <td>20171005</td>\n",
       "    </tr>\n",
       "    <tr>\n",
       "      <th>1</th>\n",
       "      <td>Xumu+NIjS6QYVxDS4/t3SawvJ7viT9hPKXmf0RtLNx8=</td>\n",
       "      <td>bhp/MpSNoqoxOIB+/l8WPqu6jldth4DIpCm3ayXnJqM=</td>\n",
       "      <td>my library</td>\n",
       "      <td>Local playlist more</td>\n",
       "      <td>local-playlist</td>\n",
       "      <td>1</td>\n",
       "      <td>284584.0</td>\n",
       "      <td>1259</td>\n",
       "      <td>Various Artists</td>\n",
       "      <td>NaN</td>\n",
       "      <td>NaN</td>\n",
       "      <td>52.0</td>\n",
       "      <td>Lords of Cardboard</td>\n",
       "      <td>US3C69910183</td>\n",
       "      <td>13</td>\n",
       "      <td>24</td>\n",
       "      <td>female</td>\n",
       "      <td>9</td>\n",
       "      <td>20110525</td>\n",
       "      <td>20170911</td>\n",
       "    </tr>\n",
       "    <tr>\n",
       "      <th>2</th>\n",
       "      <td>Xumu+NIjS6QYVxDS4/t3SawvJ7viT9hPKXmf0RtLNx8=</td>\n",
       "      <td>JNWfrrC7zNN7BdMpsISKa4Mw+xVJYNnxXh3/Epw7QgY=</td>\n",
       "      <td>my library</td>\n",
       "      <td>Local playlist more</td>\n",
       "      <td>local-playlist</td>\n",
       "      <td>1</td>\n",
       "      <td>225396.0</td>\n",
       "      <td>1259</td>\n",
       "      <td>Nas</td>\n",
       "      <td>N. Jones、W. Adams、J. Lordan、D. Ingle</td>\n",
       "      <td>NaN</td>\n",
       "      <td>52.0</td>\n",
       "      <td>Hip Hop Is Dead(Album Version (Edited))</td>\n",
       "      <td>USUM70618761</td>\n",
       "      <td>13</td>\n",
       "      <td>24</td>\n",
       "      <td>female</td>\n",
       "      <td>9</td>\n",
       "      <td>20110525</td>\n",
       "      <td>20170911</td>\n",
       "    </tr>\n",
       "    <tr>\n",
       "      <th>3</th>\n",
       "      <td>Xumu+NIjS6QYVxDS4/t3SawvJ7viT9hPKXmf0RtLNx8=</td>\n",
       "      <td>2A87tzfnJTSWqD7gIZHisolhe4DMdzkbd6LzO1KHjNs=</td>\n",
       "      <td>my library</td>\n",
       "      <td>Local playlist more</td>\n",
       "      <td>local-playlist</td>\n",
       "      <td>1</td>\n",
       "      <td>255512.0</td>\n",
       "      <td>1019</td>\n",
       "      <td>Soundway</td>\n",
       "      <td>Kwadwo Donkoh</td>\n",
       "      <td>NaN</td>\n",
       "      <td>-1.0</td>\n",
       "      <td>Disco Africa</td>\n",
       "      <td>GBUQH1000063</td>\n",
       "      <td>13</td>\n",
       "      <td>24</td>\n",
       "      <td>female</td>\n",
       "      <td>9</td>\n",
       "      <td>20110525</td>\n",
       "      <td>20170911</td>\n",
       "    </tr>\n",
       "    <tr>\n",
       "      <th>4</th>\n",
       "      <td>FGtllVqz18RPiwJj/edr2gV78zirAiY/9SmYvia+kCg=</td>\n",
       "      <td>3qm6XTZ6MOCU11x8FIVbAGH5l5uMkT3/ZalWG1oo2Gc=</td>\n",
       "      <td>explore</td>\n",
       "      <td>Explore</td>\n",
       "      <td>online-playlist</td>\n",
       "      <td>1</td>\n",
       "      <td>187802.0</td>\n",
       "      <td>1011</td>\n",
       "      <td>Brett Young</td>\n",
       "      <td>Brett Young| Kelly Archer| Justin Ebach</td>\n",
       "      <td>NaN</td>\n",
       "      <td>52.0</td>\n",
       "      <td>Sleep Without You</td>\n",
       "      <td>QM3E21606003</td>\n",
       "      <td>1</td>\n",
       "      <td>0</td>\n",
       "      <td>NaN</td>\n",
       "      <td>7</td>\n",
       "      <td>20120102</td>\n",
       "      <td>20171005</td>\n",
       "    </tr>\n",
       "  </tbody>\n",
       "</table>\n",
       "</div>"
      ],
      "text/plain": [
       "                                           msno  \\\n",
       "0  FGtllVqz18RPiwJj/edr2gV78zirAiY/9SmYvia+kCg=   \n",
       "1  Xumu+NIjS6QYVxDS4/t3SawvJ7viT9hPKXmf0RtLNx8=   \n",
       "2  Xumu+NIjS6QYVxDS4/t3SawvJ7viT9hPKXmf0RtLNx8=   \n",
       "3  Xumu+NIjS6QYVxDS4/t3SawvJ7viT9hPKXmf0RtLNx8=   \n",
       "4  FGtllVqz18RPiwJj/edr2gV78zirAiY/9SmYvia+kCg=   \n",
       "\n",
       "                                        song_id source_system_tab  \\\n",
       "0  BBzumQNXUHKdEBOB7mAJuzok+IJA1c2Ryg/yzTF6tik=           explore   \n",
       "1  bhp/MpSNoqoxOIB+/l8WPqu6jldth4DIpCm3ayXnJqM=        my library   \n",
       "2  JNWfrrC7zNN7BdMpsISKa4Mw+xVJYNnxXh3/Epw7QgY=        my library   \n",
       "3  2A87tzfnJTSWqD7gIZHisolhe4DMdzkbd6LzO1KHjNs=        my library   \n",
       "4  3qm6XTZ6MOCU11x8FIVbAGH5l5uMkT3/ZalWG1oo2Gc=           explore   \n",
       "\n",
       "    source_screen_name      source_type  target  song_length genre_ids  \\\n",
       "0              Explore  online-playlist       1     206471.0       359   \n",
       "1  Local playlist more   local-playlist       1     284584.0      1259   \n",
       "2  Local playlist more   local-playlist       1     225396.0      1259   \n",
       "3  Local playlist more   local-playlist       1     255512.0      1019   \n",
       "4              Explore  online-playlist       1     187802.0      1011   \n",
       "\n",
       "       artist_name                                 composer lyricist  \\\n",
       "0         Bastille                     Dan Smith| Mark Crew      NaN   \n",
       "1  Various Artists                                      NaN      NaN   \n",
       "2              Nas     N. Jones、W. Adams、J. Lordan、D. Ingle      NaN   \n",
       "3         Soundway                            Kwadwo Donkoh      NaN   \n",
       "4      Brett Young  Brett Young| Kelly Archer| Justin Ebach      NaN   \n",
       "\n",
       "   language                                     name          isrc  city  bd  \\\n",
       "0      52.0                               Good Grief  GBUM71602854     1   0   \n",
       "1      52.0                       Lords of Cardboard  US3C69910183    13  24   \n",
       "2      52.0  Hip Hop Is Dead(Album Version (Edited))  USUM70618761    13  24   \n",
       "3      -1.0                             Disco Africa  GBUQH1000063    13  24   \n",
       "4      52.0                        Sleep Without You  QM3E21606003     1   0   \n",
       "\n",
       "   gender  registered_via  registration_init_time  expiration_date  \n",
       "0     NaN               7                20120102         20171005  \n",
       "1  female               9                20110525         20170911  \n",
       "2  female               9                20110525         20170911  \n",
       "3  female               9                20110525         20170911  \n",
       "4     NaN               7                20120102         20171005  "
      ]
     },
     "execution_count": 12,
     "metadata": {},
     "output_type": "execute_result"
    }
   ],
   "source": [
    "merge_1 = pd.merge(train_df, songs_df, on = 'song_id', how = 'left')\n",
    "merge_2 = pd.merge(merge_1, song_extra_df, on = 'song_id', how = 'left')\n",
    "songs = pd.merge(merge_2, members_df, on = 'msno', how = 'left')\n",
    "del train_df, songs_df, song_extra_df, members_df, merge_1, merge_2\n",
    "songs.head()"
   ]
  },
  {
   "cell_type": "code",
   "execution_count": 13,
   "id": "42c54bbc",
   "metadata": {
    "execution": {
     "iopub.execute_input": "2022-09-20T18:26:53.721921Z",
     "iopub.status.busy": "2022-09-20T18:26:53.721496Z",
     "iopub.status.idle": "2022-09-20T18:26:53.815972Z",
     "shell.execute_reply": "2022-09-20T18:26:53.814791Z"
    },
    "papermill": {
     "duration": 0.111463,
     "end_time": "2022-09-20T18:26:53.819053",
     "exception": false,
     "start_time": "2022-09-20T18:26:53.707590",
     "status": "completed"
    },
    "tags": []
   },
   "outputs": [
    {
     "name": "stdout",
     "output_type": "stream",
     "text": [
      "<class 'pandas.core.frame.DataFrame'>\n",
      "Int64Index: 100000 entries, 0 to 99999\n",
      "Data columns (total 20 columns):\n",
      " #   Column                  Non-Null Count   Dtype  \n",
      "---  ------                  --------------   -----  \n",
      " 0   msno                    100000 non-null  object \n",
      " 1   song_id                 100000 non-null  object \n",
      " 2   source_system_tab       99697 non-null   object \n",
      " 3   source_screen_name      95727 non-null   object \n",
      " 4   source_type             99805 non-null   object \n",
      " 5   target                  100000 non-null  int64  \n",
      " 6   song_length             99996 non-null   float64\n",
      " 7   genre_ids               98498 non-null   object \n",
      " 8   artist_name             99996 non-null   object \n",
      " 9   composer                78528 non-null   object \n",
      " 10  lyricist                59309 non-null   object \n",
      " 11  language                99996 non-null   float64\n",
      " 12  name                    99991 non-null   object \n",
      " 13  isrc                    91475 non-null   object \n",
      " 14  city                    100000 non-null  int64  \n",
      " 15  bd                      100000 non-null  int64  \n",
      " 16  gender                  61328 non-null   object \n",
      " 17  registered_via          100000 non-null  int64  \n",
      " 18  registration_init_time  100000 non-null  int64  \n",
      " 19  expiration_date         100000 non-null  int64  \n",
      "dtypes: float64(2), int64(6), object(12)\n",
      "memory usage: 16.0+ MB\n"
     ]
    }
   ],
   "source": [
    "songs.info()"
   ]
  },
  {
   "cell_type": "markdown",
   "id": "db3b1911",
   "metadata": {
    "papermill": {
     "duration": 0.011762,
     "end_time": "2022-09-20T18:26:53.843044",
     "exception": false,
     "start_time": "2022-09-20T18:26:53.831282",
     "status": "completed"
    },
    "tags": []
   },
   "source": [
    "# **Dealing Missing values**"
   ]
  },
  {
   "cell_type": "code",
   "execution_count": 14,
   "id": "d6d1f398",
   "metadata": {
    "execution": {
     "iopub.execute_input": "2022-09-20T18:26:53.869380Z",
     "iopub.status.busy": "2022-09-20T18:26:53.868953Z",
     "iopub.status.idle": "2022-09-20T18:26:53.876784Z",
     "shell.execute_reply": "2022-09-20T18:26:53.875631Z"
    },
    "papermill": {
     "duration": 0.023827,
     "end_time": "2022-09-20T18:26:53.879109",
     "exception": false,
     "start_time": "2022-09-20T18:26:53.855282",
     "status": "completed"
    },
    "tags": []
   },
   "outputs": [
    {
     "data": {
      "text/plain": [
       "(100000, 20)"
      ]
     },
     "execution_count": 14,
     "metadata": {},
     "output_type": "execute_result"
    }
   ],
   "source": [
    "songs.shape"
   ]
  },
  {
   "cell_type": "code",
   "execution_count": 15,
   "id": "3d0b2049",
   "metadata": {
    "execution": {
     "iopub.execute_input": "2022-09-20T18:26:53.905860Z",
     "iopub.status.busy": "2022-09-20T18:26:53.904817Z",
     "iopub.status.idle": "2022-09-20T18:26:53.983386Z",
     "shell.execute_reply": "2022-09-20T18:26:53.982245Z"
    },
    "papermill": {
     "duration": 0.09481,
     "end_time": "2022-09-20T18:26:53.986161",
     "exception": false,
     "start_time": "2022-09-20T18:26:53.891351",
     "status": "completed"
    },
    "tags": []
   },
   "outputs": [
    {
     "data": {
      "text/plain": [
       "msno                          0\n",
       "song_id                       0\n",
       "source_system_tab           303\n",
       "source_screen_name         4273\n",
       "source_type                 195\n",
       "target                        0\n",
       "song_length                   4\n",
       "genre_ids                  1502\n",
       "artist_name                   4\n",
       "composer                  21472\n",
       "lyricist                  40691\n",
       "language                      4\n",
       "name                          9\n",
       "isrc                       8525\n",
       "city                          0\n",
       "bd                            0\n",
       "gender                    38672\n",
       "registered_via                0\n",
       "registration_init_time        0\n",
       "expiration_date               0\n",
       "dtype: int64"
      ]
     },
     "execution_count": 15,
     "metadata": {},
     "output_type": "execute_result"
    }
   ],
   "source": [
    "songs.isnull().sum()"
   ]
  },
  {
   "cell_type": "code",
   "execution_count": 16,
   "id": "dada1a10",
   "metadata": {
    "execution": {
     "iopub.execute_input": "2022-09-20T18:26:54.014898Z",
     "iopub.status.busy": "2022-09-20T18:26:54.014480Z",
     "iopub.status.idle": "2022-09-20T18:26:55.662233Z",
     "shell.execute_reply": "2022-09-20T18:26:55.661156Z"
    },
    "papermill": {
     "duration": 1.663699,
     "end_time": "2022-09-20T18:26:55.664384",
     "exception": false,
     "start_time": "2022-09-20T18:26:54.000685",
     "status": "completed"
    },
    "tags": []
   },
   "outputs": [
    {
     "data": {
      "text/plain": [
       "<AxesSubplot:>"
      ]
     },
     "execution_count": 16,
     "metadata": {},
     "output_type": "execute_result"
    },
    {
     "data": {
      "image/png": "[encoded data removed]",
      "text/plain": [
       "<Figure size 1800x720 with 2 Axes>"
      ]
     },
     "metadata": {
      "needs_background": "light"
     },
     "output_type": "display_data"
    }
   ],
   "source": [
    "msno.matrix(songs)"
   ]
  },
  {
   "cell_type": "code",
   "execution_count": 17,
   "id": "01e24f59",
   "metadata": {
    "execution": {
     "iopub.execute_input": "2022-09-20T18:26:55.694729Z",
     "iopub.status.busy": "2022-09-20T18:26:55.693508Z",
     "iopub.status.idle": "2022-09-20T18:26:56.009923Z",
     "shell.execute_reply": "2022-09-20T18:26:56.008840Z"
    },
    "papermill": {
     "duration": 0.334242,
     "end_time": "2022-09-20T18:26:56.012590",
     "exception": false,
     "start_time": "2022-09-20T18:26:55.678348",
     "status": "completed"
    },
    "tags": []
   },
   "outputs": [
    {
     "data": {
      "text/html": [
       "<div>\n",
       "<style scoped>\n",
       "    .dataframe tbody tr th:only-of-type {\n",
       "        vertical-align: middle;\n",
       "    }\n",
       "\n",
       "    .dataframe tbody tr th {\n",
       "        vertical-align: top;\n",
       "    }\n",
       "\n",
       "    .dataframe thead th {\n",
       "        text-align: right;\n",
       "    }\n",
       "</style>\n",
       "<table border=\"1\" class=\"dataframe\">\n",
       "  <thead>\n",
       "    <tr style=\"text-align: right;\">\n",
       "      <th></th>\n",
       "      <th>msno</th>\n",
       "      <th>song_id</th>\n",
       "      <th>source_system_tab</th>\n",
       "      <th>source_screen_name</th>\n",
       "      <th>source_type</th>\n",
       "      <th>target</th>\n",
       "      <th>song_length</th>\n",
       "      <th>genre_ids</th>\n",
       "      <th>artist_name</th>\n",
       "      <th>composer</th>\n",
       "      <th>lyricist</th>\n",
       "      <th>language</th>\n",
       "      <th>name</th>\n",
       "      <th>isrc</th>\n",
       "      <th>city</th>\n",
       "      <th>bd</th>\n",
       "      <th>gender</th>\n",
       "      <th>registered_via</th>\n",
       "      <th>registration_init_time</th>\n",
       "      <th>expiration_date</th>\n",
       "    </tr>\n",
       "  </thead>\n",
       "  <tbody>\n",
       "    <tr>\n",
       "      <th>99995</th>\n",
       "      <td>EedNarOVNUU5ppYW/ho+KV8V29zuf7m3+Df5qnQ9FT4=</td>\n",
       "      <td>c7bvJHblBfQGFJG+DcltwclubmlYvIRTT964Lu4WWXI=</td>\n",
       "      <td>my library</td>\n",
       "      <td>Local playlist more</td>\n",
       "      <td>local-playlist</td>\n",
       "      <td>1</td>\n",
       "      <td>236982.0</td>\n",
       "      <td>465</td>\n",
       "      <td>2NE1</td>\n",
       "      <td>unknown</td>\n",
       "      <td>unknown</td>\n",
       "      <td>31.0</td>\n",
       "      <td>I Love You</td>\n",
       "      <td>TWA531200396</td>\n",
       "      <td>14</td>\n",
       "      <td>0</td>\n",
       "      <td>unknown</td>\n",
       "      <td>9</td>\n",
       "      <td>20150321</td>\n",
       "      <td>20170923</td>\n",
       "    </tr>\n",
       "    <tr>\n",
       "      <th>99996</th>\n",
       "      <td>xyxz9lf8ipoxELeDLlazmHVZHE1ZYqE6iwfJWkH3Ojc=</td>\n",
       "      <td>MZTwICqr12ijCeBaWeKVJZ67Bz7NI0WA4bqB1IwR4jI=</td>\n",
       "      <td>my library</td>\n",
       "      <td>Local playlist more</td>\n",
       "      <td>local-library</td>\n",
       "      <td>0</td>\n",
       "      <td>228241.0</td>\n",
       "      <td>465</td>\n",
       "      <td>One Direction</td>\n",
       "      <td>Wayne Hector| John Ryan| Julian Bunetta| Ed Dr...</td>\n",
       "      <td>Wayne Hector| John Ryan| Julian Bunetta| Ed Dr...</td>\n",
       "      <td>52.0</td>\n",
       "      <td>Steal My Girl</td>\n",
       "      <td>GBHMU1400159</td>\n",
       "      <td>1</td>\n",
       "      <td>0</td>\n",
       "      <td>unknown</td>\n",
       "      <td>7</td>\n",
       "      <td>20120117</td>\n",
       "      <td>20171004</td>\n",
       "    </tr>\n",
       "    <tr>\n",
       "      <th>99997</th>\n",
       "      <td>vDi/nHqBu7wb+DtI2Ix4TupWQatUEFR41mDC0c8Voh8=</td>\n",
       "      <td>xK0clTH8TvjG6sKmJXZuMLzhikhlEsolLtx2AHBpmbQ=</td>\n",
       "      <td>my library</td>\n",
       "      <td>Local playlist more</td>\n",
       "      <td>local-library</td>\n",
       "      <td>1</td>\n",
       "      <td>196812.0</td>\n",
       "      <td>465</td>\n",
       "      <td>Michael Giacchino</td>\n",
       "      <td>Mikkel Eriksen|Sia Furler|Tor Erik Hermansen</td>\n",
       "      <td>unknown</td>\n",
       "      <td>52.0</td>\n",
       "      <td>Try Everything</td>\n",
       "      <td>USWD11575402</td>\n",
       "      <td>13</td>\n",
       "      <td>0</td>\n",
       "      <td>unknown</td>\n",
       "      <td>9</td>\n",
       "      <td>20110322</td>\n",
       "      <td>20180403</td>\n",
       "    </tr>\n",
       "    <tr>\n",
       "      <th>99998</th>\n",
       "      <td>xyxz9lf8ipoxELeDLlazmHVZHE1ZYqE6iwfJWkH3Ojc=</td>\n",
       "      <td>SoPkcfpiBjDpZSNPN3HdbPI8WAkuenayPXyBRK91T2s=</td>\n",
       "      <td>my library</td>\n",
       "      <td>Local playlist more</td>\n",
       "      <td>local-library</td>\n",
       "      <td>0</td>\n",
       "      <td>215775.0</td>\n",
       "      <td>465</td>\n",
       "      <td>Katy Perry</td>\n",
       "      <td>Katy Perry| Max Martin| Jordan Houston| Lukasz...</td>\n",
       "      <td>unknown</td>\n",
       "      <td>52.0</td>\n",
       "      <td>Dark Horse</td>\n",
       "      <td>USUM71311296</td>\n",
       "      <td>1</td>\n",
       "      <td>0</td>\n",
       "      <td>unknown</td>\n",
       "      <td>7</td>\n",
       "      <td>20120117</td>\n",
       "      <td>20171004</td>\n",
       "    </tr>\n",
       "    <tr>\n",
       "      <th>99999</th>\n",
       "      <td>n8TgRhOBw+DthR6N6ie/63yp3KHA20UVHlbK9nY9nIc=</td>\n",
       "      <td>PEEg0ODi9cPg1VXM9EOhZtV39sBJFr/9cIflhbHJ5Bs=</td>\n",
       "      <td>my library</td>\n",
       "      <td>Local playlist more</td>\n",
       "      <td>local-library</td>\n",
       "      <td>1</td>\n",
       "      <td>191425.0</td>\n",
       "      <td>465</td>\n",
       "      <td>孫盛希 (Shi Shi)</td>\n",
       "      <td>孫盛希</td>\n",
       "      <td>孫盛希</td>\n",
       "      <td>3.0</td>\n",
       "      <td>你的誰</td>\n",
       "      <td>TWA451499001</td>\n",
       "      <td>1</td>\n",
       "      <td>0</td>\n",
       "      <td>unknown</td>\n",
       "      <td>7</td>\n",
       "      <td>20150706</td>\n",
       "      <td>20170921</td>\n",
       "    </tr>\n",
       "  </tbody>\n",
       "</table>\n",
       "</div>"
      ],
      "text/plain": [
       "                                               msno  \\\n",
       "99995  EedNarOVNUU5ppYW/ho+KV8V29zuf7m3+Df5qnQ9FT4=   \n",
       "99996  xyxz9lf8ipoxELeDLlazmHVZHE1ZYqE6iwfJWkH3Ojc=   \n",
       "99997  vDi/nHqBu7wb+DtI2Ix4TupWQatUEFR41mDC0c8Voh8=   \n",
       "99998  xyxz9lf8ipoxELeDLlazmHVZHE1ZYqE6iwfJWkH3Ojc=   \n",
       "99999  n8TgRhOBw+DthR6N6ie/63yp3KHA20UVHlbK9nY9nIc=   \n",
       "\n",
       "                                            song_id source_system_tab  \\\n",
       "99995  c7bvJHblBfQGFJG+DcltwclubmlYvIRTT964Lu4WWXI=        my library   \n",
       "99996  MZTwICqr12ijCeBaWeKVJZ67Bz7NI0WA4bqB1IwR4jI=        my library   \n",
       "99997  xK0clTH8TvjG6sKmJXZuMLzhikhlEsolLtx2AHBpmbQ=        my library   \n",
       "99998  SoPkcfpiBjDpZSNPN3HdbPI8WAkuenayPXyBRK91T2s=        my library   \n",
       "99999  PEEg0ODi9cPg1VXM9EOhZtV39sBJFr/9cIflhbHJ5Bs=        my library   \n",
       "\n",
       "        source_screen_name     source_type  target  song_length genre_ids  \\\n",
       "99995  Local playlist more  local-playlist       1     236982.0       465   \n",
       "99996  Local playlist more   local-library       0     228241.0       465   \n",
       "99997  Local playlist more   local-library       1     196812.0       465   \n",
       "99998  Local playlist more   local-library       0     215775.0       465   \n",
       "99999  Local playlist more   local-library       1     191425.0       465   \n",
       "\n",
       "             artist_name                                           composer  \\\n",
       "99995               2NE1                                            unknown   \n",
       "99996      One Direction  Wayne Hector| John Ryan| Julian Bunetta| Ed Dr...   \n",
       "99997  Michael Giacchino       Mikkel Eriksen|Sia Furler|Tor Erik Hermansen   \n",
       "99998         Katy Perry  Katy Perry| Max Martin| Jordan Houston| Lukasz...   \n",
       "99999      孫盛希 (Shi Shi)                                                孫盛希   \n",
       "\n",
       "                                                lyricist  language  \\\n",
       "99995                                            unknown      31.0   \n",
       "99996  Wayne Hector| John Ryan| Julian Bunetta| Ed Dr...      52.0   \n",
       "99997                                            unknown      52.0   \n",
       "99998                                            unknown      52.0   \n",
       "99999                                                孫盛希       3.0   \n",
       "\n",
       "                 name          isrc  city  bd   gender  registered_via  \\\n",
       "99995      I Love You  TWA531200396    14   0  unknown               9   \n",
       "99996   Steal My Girl  GBHMU1400159     1   0  unknown               7   \n",
       "99997  Try Everything  USWD11575402    13   0  unknown               9   \n",
       "99998      Dark Horse  USUM71311296     1   0  unknown               7   \n",
       "99999             你的誰  TWA451499001     1   0  unknown               7   \n",
       "\n",
       "       registration_init_time  expiration_date  \n",
       "99995                20150321         20170923  \n",
       "99996                20120117         20171004  \n",
       "99997                20110322         20180403  \n",
       "99998                20120117         20171004  \n",
       "99999                20150706         20170921  "
      ]
     },
     "execution_count": 17,
     "metadata": {},
     "output_type": "execute_result"
    }
   ],
   "source": [
    "for i in songs.select_dtypes(include=['object']).columns:\n",
    "    songs[i][songs[i].isnull()] = 'unknown'\n",
    "songs.fillna(value = 0).tail()"
   ]
  },
  {
   "cell_type": "code",
   "execution_count": 18,
   "id": "f05f0e46",
   "metadata": {
    "execution": {
     "iopub.execute_input": "2022-09-20T18:26:56.043975Z",
     "iopub.status.busy": "2022-09-20T18:26:56.043515Z",
     "iopub.status.idle": "2022-09-20T18:26:57.770782Z",
     "shell.execute_reply": "2022-09-20T18:26:57.769633Z"
    },
    "papermill": {
     "duration": 1.74643,
     "end_time": "2022-09-20T18:26:57.773999",
     "exception": false,
     "start_time": "2022-09-20T18:26:56.027569",
     "status": "completed"
    },
    "tags": []
   },
   "outputs": [
    {
     "data": {
      "text/plain": [
       "<AxesSubplot:>"
      ]
     },
     "execution_count": 18,
     "metadata": {},
     "output_type": "execute_result"
    },
    {
     "data": {
      "image/png": "[encoded data removed]",
      "text/plain": [
       "<Figure size 1800x720 with 2 Axes>"
      ]
     },
     "metadata": {
      "needs_background": "light"
     },
     "output_type": "display_data"
    }
   ],
   "source": [
    "msno.matrix(songs)"
   ]
  },
  {
   "cell_type": "markdown",
   "id": "089e1073",
   "metadata": {
    "papermill": {
     "duration": 0.015237,
     "end_time": "2022-09-20T18:26:57.804563",
     "exception": false,
     "start_time": "2022-09-20T18:26:57.789326",
     "status": "completed"
    },
    "tags": []
   },
   "source": [
    "# **Extracting new Features**"
   ]
  },
  {
   "cell_type": "code",
   "execution_count": 19,
   "id": "f25309cf",
   "metadata": {
    "execution": {
     "iopub.execute_input": "2022-09-20T18:26:57.837373Z",
     "iopub.status.busy": "2022-09-20T18:26:57.836718Z",
     "iopub.status.idle": "2022-09-20T18:26:57.928037Z",
     "shell.execute_reply": "2022-09-20T18:26:57.927002Z"
    },
    "papermill": {
     "duration": 0.11056,
     "end_time": "2022-09-20T18:26:57.930709",
     "exception": false,
     "start_time": "2022-09-20T18:26:57.820149",
     "status": "completed"
    },
    "tags": []
   },
   "outputs": [],
   "source": [
    "# registration_init_time\n",
    "songs.registration_init_time = pd.to_datetime(songs.registration_init_time, format='%Y%m%d', errors='ignore')\n",
    "songs['registration_init_time_year'] = songs['registration_init_time'].dt.year\n",
    "songs['registration_init_time_month'] = songs['registration_init_time'].dt.month\n",
    "songs['registration_init_time_day'] = songs['registration_init_time'].dt.day\n",
    "\n",
    "# expiration_date\n",
    "songs.expiration_date = pd.to_datetime(songs.expiration_date,  format='%Y%m%d', errors='ignore')\n",
    "songs['expiration_date_year'] = songs['expiration_date'].dt.year\n",
    "songs['expiration_date_month'] = songs['expiration_date'].dt.month\n",
    "songs['expiration_date_day'] = songs['expiration_date'].dt.day"
   ]
  },
  {
   "cell_type": "code",
   "execution_count": 20,
   "id": "d84f2528",
   "metadata": {
    "execution": {
     "iopub.execute_input": "2022-09-20T18:26:57.962960Z",
     "iopub.status.busy": "2022-09-20T18:26:57.962009Z",
     "iopub.status.idle": "2022-09-20T18:26:57.990828Z",
     "shell.execute_reply": "2022-09-20T18:26:57.989547Z"
    },
    "papermill": {
     "duration": 0.047462,
     "end_time": "2022-09-20T18:26:57.993205",
     "exception": false,
     "start_time": "2022-09-20T18:26:57.945743",
     "status": "completed"
    },
    "tags": []
   },
   "outputs": [
    {
     "data": {
      "text/html": [
       "<div>\n",
       "<style scoped>\n",
       "    .dataframe tbody tr th:only-of-type {\n",
       "        vertical-align: middle;\n",
       "    }\n",
       "\n",
       "    .dataframe tbody tr th {\n",
       "        vertical-align: top;\n",
       "    }\n",
       "\n",
       "    .dataframe thead th {\n",
       "        text-align: right;\n",
       "    }\n",
       "</style>\n",
       "<table border=\"1\" class=\"dataframe\">\n",
       "  <thead>\n",
       "    <tr style=\"text-align: right;\">\n",
       "      <th></th>\n",
       "      <th>msno</th>\n",
       "      <th>song_id</th>\n",
       "      <th>source_system_tab</th>\n",
       "      <th>source_screen_name</th>\n",
       "      <th>source_type</th>\n",
       "      <th>target</th>\n",
       "      <th>song_length</th>\n",
       "      <th>genre_ids</th>\n",
       "      <th>artist_name</th>\n",
       "      <th>composer</th>\n",
       "      <th>lyricist</th>\n",
       "      <th>language</th>\n",
       "      <th>name</th>\n",
       "      <th>isrc</th>\n",
       "      <th>city</th>\n",
       "      <th>bd</th>\n",
       "      <th>gender</th>\n",
       "      <th>registered_via</th>\n",
       "      <th>registration_init_time</th>\n",
       "      <th>expiration_date</th>\n",
       "      <th>registration_init_time_year</th>\n",
       "      <th>registration_init_time_month</th>\n",
       "      <th>registration_init_time_day</th>\n",
       "      <th>expiration_date_year</th>\n",
       "      <th>expiration_date_month</th>\n",
       "      <th>expiration_date_day</th>\n",
       "    </tr>\n",
       "  </thead>\n",
       "  <tbody>\n",
       "    <tr>\n",
       "      <th>0</th>\n",
       "      <td>FGtllVqz18RPiwJj/edr2gV78zirAiY/9SmYvia+kCg=</td>\n",
       "      <td>BBzumQNXUHKdEBOB7mAJuzok+IJA1c2Ryg/yzTF6tik=</td>\n",
       "      <td>explore</td>\n",
       "      <td>Explore</td>\n",
       "      <td>online-playlist</td>\n",
       "      <td>1</td>\n",
       "      <td>206471.0</td>\n",
       "      <td>359</td>\n",
       "      <td>Bastille</td>\n",
       "      <td>Dan Smith| Mark Crew</td>\n",
       "      <td>unknown</td>\n",
       "      <td>52.0</td>\n",
       "      <td>Good Grief</td>\n",
       "      <td>GBUM71602854</td>\n",
       "      <td>1</td>\n",
       "      <td>0</td>\n",
       "      <td>unknown</td>\n",
       "      <td>7</td>\n",
       "      <td>2012-01-02</td>\n",
       "      <td>2017-10-05</td>\n",
       "      <td>2012</td>\n",
       "      <td>1</td>\n",
       "      <td>2</td>\n",
       "      <td>2017</td>\n",
       "      <td>10</td>\n",
       "      <td>5</td>\n",
       "    </tr>\n",
       "    <tr>\n",
       "      <th>1</th>\n",
       "      <td>Xumu+NIjS6QYVxDS4/t3SawvJ7viT9hPKXmf0RtLNx8=</td>\n",
       "      <td>bhp/MpSNoqoxOIB+/l8WPqu6jldth4DIpCm3ayXnJqM=</td>\n",
       "      <td>my library</td>\n",
       "      <td>Local playlist more</td>\n",
       "      <td>local-playlist</td>\n",
       "      <td>1</td>\n",
       "      <td>284584.0</td>\n",
       "      <td>1259</td>\n",
       "      <td>Various Artists</td>\n",
       "      <td>unknown</td>\n",
       "      <td>unknown</td>\n",
       "      <td>52.0</td>\n",
       "      <td>Lords of Cardboard</td>\n",
       "      <td>US3C69910183</td>\n",
       "      <td>13</td>\n",
       "      <td>24</td>\n",
       "      <td>female</td>\n",
       "      <td>9</td>\n",
       "      <td>2011-05-25</td>\n",
       "      <td>2017-09-11</td>\n",
       "      <td>2011</td>\n",
       "      <td>5</td>\n",
       "      <td>25</td>\n",
       "      <td>2017</td>\n",
       "      <td>9</td>\n",
       "      <td>11</td>\n",
       "    </tr>\n",
       "    <tr>\n",
       "      <th>2</th>\n",
       "      <td>Xumu+NIjS6QYVxDS4/t3SawvJ7viT9hPKXmf0RtLNx8=</td>\n",
       "      <td>JNWfrrC7zNN7BdMpsISKa4Mw+xVJYNnxXh3/Epw7QgY=</td>\n",
       "      <td>my library</td>\n",
       "      <td>Local playlist more</td>\n",
       "      <td>local-playlist</td>\n",
       "      <td>1</td>\n",
       "      <td>225396.0</td>\n",
       "      <td>1259</td>\n",
       "      <td>Nas</td>\n",
       "      <td>N. Jones、W. Adams、J. Lordan、D. Ingle</td>\n",
       "      <td>unknown</td>\n",
       "      <td>52.0</td>\n",
       "      <td>Hip Hop Is Dead(Album Version (Edited))</td>\n",
       "      <td>USUM70618761</td>\n",
       "      <td>13</td>\n",
       "      <td>24</td>\n",
       "      <td>female</td>\n",
       "      <td>9</td>\n",
       "      <td>2011-05-25</td>\n",
       "      <td>2017-09-11</td>\n",
       "      <td>2011</td>\n",
       "      <td>5</td>\n",
       "      <td>25</td>\n",
       "      <td>2017</td>\n",
       "      <td>9</td>\n",
       "      <td>11</td>\n",
       "    </tr>\n",
       "    <tr>\n",
       "      <th>3</th>\n",
       "      <td>Xumu+NIjS6QYVxDS4/t3SawvJ7viT9hPKXmf0RtLNx8=</td>\n",
       "      <td>2A87tzfnJTSWqD7gIZHisolhe4DMdzkbd6LzO1KHjNs=</td>\n",
       "      <td>my library</td>\n",
       "      <td>Local playlist more</td>\n",
       "      <td>local-playlist</td>\n",
       "      <td>1</td>\n",
       "      <td>255512.0</td>\n",
       "      <td>1019</td>\n",
       "      <td>Soundway</td>\n",
       "      <td>Kwadwo Donkoh</td>\n",
       "      <td>unknown</td>\n",
       "      <td>-1.0</td>\n",
       "      <td>Disco Africa</td>\n",
       "      <td>GBUQH1000063</td>\n",
       "      <td>13</td>\n",
       "      <td>24</td>\n",
       "      <td>female</td>\n",
       "      <td>9</td>\n",
       "      <td>2011-05-25</td>\n",
       "      <td>2017-09-11</td>\n",
       "      <td>2011</td>\n",
       "      <td>5</td>\n",
       "      <td>25</td>\n",
       "      <td>2017</td>\n",
       "      <td>9</td>\n",
       "      <td>11</td>\n",
       "    </tr>\n",
       "    <tr>\n",
       "      <th>4</th>\n",
       "      <td>FGtllVqz18RPiwJj/edr2gV78zirAiY/9SmYvia+kCg=</td>\n",
       "      <td>3qm6XTZ6MOCU11x8FIVbAGH5l5uMkT3/ZalWG1oo2Gc=</td>\n",
       "      <td>explore</td>\n",
       "      <td>Explore</td>\n",
       "      <td>online-playlist</td>\n",
       "      <td>1</td>\n",
       "      <td>187802.0</td>\n",
       "      <td>1011</td>\n",
       "      <td>Brett Young</td>\n",
       "      <td>Brett Young| Kelly Archer| Justin Ebach</td>\n",
       "      <td>unknown</td>\n",
       "      <td>52.0</td>\n",
       "      <td>Sleep Without You</td>\n",
       "      <td>QM3E21606003</td>\n",
       "      <td>1</td>\n",
       "      <td>0</td>\n",
       "      <td>unknown</td>\n",
       "      <td>7</td>\n",
       "      <td>2012-01-02</td>\n",
       "      <td>2017-10-05</td>\n",
       "      <td>2012</td>\n",
       "      <td>1</td>\n",
       "      <td>2</td>\n",
       "      <td>2017</td>\n",
       "      <td>10</td>\n",
       "      <td>5</td>\n",
       "    </tr>\n",
       "  </tbody>\n",
       "</table>\n",
       "</div>"
      ],
      "text/plain": [
       "                                           msno  \\\n",
       "0  FGtllVqz18RPiwJj/edr2gV78zirAiY/9SmYvia+kCg=   \n",
       "1  Xumu+NIjS6QYVxDS4/t3SawvJ7viT9hPKXmf0RtLNx8=   \n",
       "2  Xumu+NIjS6QYVxDS4/t3SawvJ7viT9hPKXmf0RtLNx8=   \n",
       "3  Xumu+NIjS6QYVxDS4/t3SawvJ7viT9hPKXmf0RtLNx8=   \n",
       "4  FGtllVqz18RPiwJj/edr2gV78zirAiY/9SmYvia+kCg=   \n",
       "\n",
       "                                        song_id source_system_tab  \\\n",
       "0  BBzumQNXUHKdEBOB7mAJuzok+IJA1c2Ryg/yzTF6tik=           explore   \n",
       "1  bhp/MpSNoqoxOIB+/l8WPqu6jldth4DIpCm3ayXnJqM=        my library   \n",
       "2  JNWfrrC7zNN7BdMpsISKa4Mw+xVJYNnxXh3/Epw7QgY=        my library   \n",
       "3  2A87tzfnJTSWqD7gIZHisolhe4DMdzkbd6LzO1KHjNs=        my library   \n",
       "4  3qm6XTZ6MOCU11x8FIVbAGH5l5uMkT3/ZalWG1oo2Gc=           explore   \n",
       "\n",
       "    source_screen_name      source_type  target  song_length genre_ids  \\\n",
       "0              Explore  online-playlist       1     206471.0       359   \n",
       "1  Local playlist more   local-playlist       1     284584.0      1259   \n",
       "2  Local playlist more   local-playlist       1     225396.0      1259   \n",
       "3  Local playlist more   local-playlist       1     255512.0      1019   \n",
       "4              Explore  online-playlist       1     187802.0      1011   \n",
       "\n",
       "       artist_name                                 composer lyricist  \\\n",
       "0         Bastille                     Dan Smith| Mark Crew  unknown   \n",
       "1  Various Artists                                  unknown  unknown   \n",
       "2              Nas     N. Jones、W. Adams、J. Lordan、D. Ingle  unknown   \n",
       "3         Soundway                            Kwadwo Donkoh  unknown   \n",
       "4      Brett Young  Brett Young| Kelly Archer| Justin Ebach  unknown   \n",
       "\n",
       "   language                                     name          isrc  city  bd  \\\n",
       "0      52.0                               Good Grief  GBUM71602854     1   0   \n",
       "1      52.0                       Lords of Cardboard  US3C69910183    13  24   \n",
       "2      52.0  Hip Hop Is Dead(Album Version (Edited))  USUM70618761    13  24   \n",
       "3      -1.0                             Disco Africa  GBUQH1000063    13  24   \n",
       "4      52.0                        Sleep Without You  QM3E21606003     1   0   \n",
       "\n",
       "    gender  registered_via registration_init_time expiration_date  \\\n",
       "0  unknown               7             2012-01-02      2017-10-05   \n",
       "1   female               9             2011-05-25      2017-09-11   \n",
       "2   female               9             2011-05-25      2017-09-11   \n",
       "3   female               9             2011-05-25      2017-09-11   \n",
       "4  unknown               7             2012-01-02      2017-10-05   \n",
       "\n",
       "   registration_init_time_year  registration_init_time_month  \\\n",
       "0                         2012                             1   \n",
       "1                         2011                             5   \n",
       "2                         2011                             5   \n",
       "3                         2011                             5   \n",
       "4                         2012                             1   \n",
       "\n",
       "   registration_init_time_day  expiration_date_year  expiration_date_month  \\\n",
       "0                           2                  2017                     10   \n",
       "1                          25                  2017                      9   \n",
       "2                          25                  2017                      9   \n",
       "3                          25                  2017                      9   \n",
       "4                           2                  2017                     10   \n",
       "\n",
       "   expiration_date_day  \n",
       "0                    5  \n",
       "1                   11  \n",
       "2                   11  \n",
       "3                   11  \n",
       "4                    5  "
      ]
     },
     "execution_count": 20,
     "metadata": {},
     "output_type": "execute_result"
    }
   ],
   "source": [
    "songs.head()"
   ]
  },
  {
   "cell_type": "code",
   "execution_count": 21,
   "id": "e2118c55",
   "metadata": {
    "execution": {
     "iopub.execute_input": "2022-09-20T18:26:58.026332Z",
     "iopub.status.busy": "2022-09-20T18:26:58.025890Z",
     "iopub.status.idle": "2022-09-20T18:26:58.857528Z",
     "shell.execute_reply": "2022-09-20T18:26:58.856359Z"
    },
    "papermill": {
     "duration": 0.851605,
     "end_time": "2022-09-20T18:26:58.860512",
     "exception": false,
     "start_time": "2022-09-20T18:26:58.008907",
     "status": "completed"
    },
    "tags": []
   },
   "outputs": [],
   "source": [
    "label_encoder = LabelEncoder()\n",
    "one_hot = OneHotEncoder()\n",
    "\n",
    "for i in songs.columns :\n",
    "    songs[i] = label_encoder.fit_transform(songs[i])"
   ]
  },
  {
   "cell_type": "code",
   "execution_count": 22,
   "id": "6606ee51",
   "metadata": {
    "execution": {
     "iopub.execute_input": "2022-09-20T18:26:58.898199Z",
     "iopub.status.busy": "2022-09-20T18:26:58.897780Z",
     "iopub.status.idle": "2022-09-20T18:26:58.916705Z",
     "shell.execute_reply": "2022-09-20T18:26:58.915587Z"
    },
    "papermill": {
     "duration": 0.038914,
     "end_time": "2022-09-20T18:26:58.919155",
     "exception": false,
     "start_time": "2022-09-20T18:26:58.880241",
     "status": "completed"
    },
    "tags": []
   },
   "outputs": [
    {
     "data": {
      "text/html": [
       "<div>\n",
       "<style scoped>\n",
       "    .dataframe tbody tr th:only-of-type {\n",
       "        vertical-align: middle;\n",
       "    }\n",
       "\n",
       "    .dataframe tbody tr th {\n",
       "        vertical-align: top;\n",
       "    }\n",
       "\n",
       "    .dataframe thead th {\n",
       "        text-align: right;\n",
       "    }\n",
       "</style>\n",
       "<table border=\"1\" class=\"dataframe\">\n",
       "  <thead>\n",
       "    <tr style=\"text-align: right;\">\n",
       "      <th></th>\n",
       "      <th>msno</th>\n",
       "      <th>song_id</th>\n",
       "      <th>source_system_tab</th>\n",
       "      <th>source_screen_name</th>\n",
       "      <th>source_type</th>\n",
       "      <th>target</th>\n",
       "      <th>song_length</th>\n",
       "      <th>genre_ids</th>\n",
       "      <th>artist_name</th>\n",
       "      <th>composer</th>\n",
       "      <th>lyricist</th>\n",
       "      <th>language</th>\n",
       "      <th>name</th>\n",
       "      <th>isrc</th>\n",
       "      <th>city</th>\n",
       "      <th>bd</th>\n",
       "      <th>gender</th>\n",
       "      <th>registered_via</th>\n",
       "      <th>registration_init_time</th>\n",
       "      <th>expiration_date</th>\n",
       "      <th>registration_init_time_year</th>\n",
       "      <th>registration_init_time_month</th>\n",
       "      <th>registration_init_time_day</th>\n",
       "      <th>expiration_date_year</th>\n",
       "      <th>expiration_date_month</th>\n",
       "      <th>expiration_date_day</th>\n",
       "    </tr>\n",
       "  </thead>\n",
       "  <tbody>\n",
       "    <tr>\n",
       "      <th>0</th>\n",
       "      <td>1647</td>\n",
       "      <td>6022</td>\n",
       "      <td>1</td>\n",
       "      <td>6</td>\n",
       "      <td>5</td>\n",
       "      <td>1</td>\n",
       "      <td>3513</td>\n",
       "      <td>94</td>\n",
       "      <td>424</td>\n",
       "      <td>1615</td>\n",
       "      <td>3159</td>\n",
       "      <td>8</td>\n",
       "      <td>3900</td>\n",
       "      <td>3293</td>\n",
       "      <td>0</td>\n",
       "      <td>1</td>\n",
       "      <td>2</td>\n",
       "      <td>2</td>\n",
       "      <td>1176</td>\n",
       "      <td>328</td>\n",
       "      <td>8</td>\n",
       "      <td>0</td>\n",
       "      <td>1</td>\n",
       "      <td>4</td>\n",
       "      <td>9</td>\n",
       "      <td>4</td>\n",
       "    </tr>\n",
       "    <tr>\n",
       "      <th>1</th>\n",
       "      <td>3471</td>\n",
       "      <td>18027</td>\n",
       "      <td>3</td>\n",
       "      <td>7</td>\n",
       "      <td>4</td>\n",
       "      <td>1</td>\n",
       "      <td>8945</td>\n",
       "      <td>28</td>\n",
       "      <td>3757</td>\n",
       "      <td>7664</td>\n",
       "      <td>3159</td>\n",
       "      <td>8</td>\n",
       "      <td>6186</td>\n",
       "      <td>18561</td>\n",
       "      <td>11</td>\n",
       "      <td>14</td>\n",
       "      <td>0</td>\n",
       "      <td>3</td>\n",
       "      <td>974</td>\n",
       "      <td>304</td>\n",
       "      <td>7</td>\n",
       "      <td>4</td>\n",
       "      <td>24</td>\n",
       "      <td>4</td>\n",
       "      <td>8</td>\n",
       "      <td>10</td>\n",
       "    </tr>\n",
       "    <tr>\n",
       "      <th>2</th>\n",
       "      <td>3471</td>\n",
       "      <td>9744</td>\n",
       "      <td>3</td>\n",
       "      <td>7</td>\n",
       "      <td>4</td>\n",
       "      <td>1</td>\n",
       "      <td>4972</td>\n",
       "      <td>28</td>\n",
       "      <td>2550</td>\n",
       "      <td>5137</td>\n",
       "      <td>3159</td>\n",
       "      <td>8</td>\n",
       "      <td>4359</td>\n",
       "      <td>21796</td>\n",
       "      <td>11</td>\n",
       "      <td>14</td>\n",
       "      <td>0</td>\n",
       "      <td>3</td>\n",
       "      <td>974</td>\n",
       "      <td>304</td>\n",
       "      <td>7</td>\n",
       "      <td>4</td>\n",
       "      <td>24</td>\n",
       "      <td>4</td>\n",
       "      <td>8</td>\n",
       "      <td>10</td>\n",
       "    </tr>\n",
       "    <tr>\n",
       "      <th>3</th>\n",
       "      <td>3471</td>\n",
       "      <td>1868</td>\n",
       "      <td>3</td>\n",
       "      <td>7</td>\n",
       "      <td>4</td>\n",
       "      <td>1</td>\n",
       "      <td>7193</td>\n",
       "      <td>1</td>\n",
       "      <td>3231</td>\n",
       "      <td>4202</td>\n",
       "      <td>3159</td>\n",
       "      <td>0</td>\n",
       "      <td>2685</td>\n",
       "      <td>3322</td>\n",
       "      <td>11</td>\n",
       "      <td>14</td>\n",
       "      <td>0</td>\n",
       "      <td>3</td>\n",
       "      <td>974</td>\n",
       "      <td>304</td>\n",
       "      <td>7</td>\n",
       "      <td>4</td>\n",
       "      <td>24</td>\n",
       "      <td>4</td>\n",
       "      <td>8</td>\n",
       "      <td>10</td>\n",
       "    </tr>\n",
       "    <tr>\n",
       "      <th>4</th>\n",
       "      <td>1647</td>\n",
       "      <td>2688</td>\n",
       "      <td>1</td>\n",
       "      <td>6</td>\n",
       "      <td>5</td>\n",
       "      <td>1</td>\n",
       "      <td>2329</td>\n",
       "      <td>0</td>\n",
       "      <td>561</td>\n",
       "      <td>970</td>\n",
       "      <td>3159</td>\n",
       "      <td>8</td>\n",
       "      <td>9286</td>\n",
       "      <td>8761</td>\n",
       "      <td>0</td>\n",
       "      <td>1</td>\n",
       "      <td>2</td>\n",
       "      <td>2</td>\n",
       "      <td>1176</td>\n",
       "      <td>328</td>\n",
       "      <td>8</td>\n",
       "      <td>0</td>\n",
       "      <td>1</td>\n",
       "      <td>4</td>\n",
       "      <td>9</td>\n",
       "      <td>4</td>\n",
       "    </tr>\n",
       "  </tbody>\n",
       "</table>\n",
       "</div>"
      ],
      "text/plain": [
       "   msno  song_id  source_system_tab  source_screen_name  source_type  target  \\\n",
       "0  1647     6022                  1                   6            5       1   \n",
       "1  3471    18027                  3                   7            4       1   \n",
       "2  3471     9744                  3                   7            4       1   \n",
       "3  3471     1868                  3                   7            4       1   \n",
       "4  1647     2688                  1                   6            5       1   \n",
       "\n",
       "   song_length  genre_ids  artist_name  composer  lyricist  language  name  \\\n",
       "0         3513         94          424      1615      3159         8  3900   \n",
       "1         8945         28         3757      7664      3159         8  6186   \n",
       "2         4972         28         2550      5137      3159         8  4359   \n",
       "3         7193          1         3231      4202      3159         0  2685   \n",
       "4         2329          0          561       970      3159         8  9286   \n",
       "\n",
       "    isrc  city  bd  gender  registered_via  registration_init_time  \\\n",
       "0   3293     0   1       2               2                    1176   \n",
       "1  18561    11  14       0               3                     974   \n",
       "2  21796    11  14       0               3                     974   \n",
       "3   3322    11  14       0               3                     974   \n",
       "4   8761     0   1       2               2                    1176   \n",
       "\n",
       "   expiration_date  registration_init_time_year  registration_init_time_month  \\\n",
       "0              328                            8                             0   \n",
       "1              304                            7                             4   \n",
       "2              304                            7                             4   \n",
       "3              304                            7                             4   \n",
       "4              328                            8                             0   \n",
       "\n",
       "   registration_init_time_day  expiration_date_year  expiration_date_month  \\\n",
       "0                           1                     4                      9   \n",
       "1                          24                     4                      8   \n",
       "2                          24                     4                      8   \n",
       "3                          24                     4                      8   \n",
       "4                           1                     4                      9   \n",
       "\n",
       "   expiration_date_day  \n",
       "0                    4  \n",
       "1                   10  \n",
       "2                   10  \n",
       "3                   10  \n",
       "4                    4  "
      ]
     },
     "execution_count": 22,
     "metadata": {},
     "output_type": "execute_result"
    }
   ],
   "source": [
    "songs.head()"
   ]
  },
  {
   "cell_type": "code",
   "execution_count": 23,
   "id": "8ecdfdba",
   "metadata": {
    "execution": {
     "iopub.execute_input": "2022-09-20T18:26:58.953109Z",
     "iopub.status.busy": "2022-09-20T18:26:58.952682Z",
     "iopub.status.idle": "2022-09-20T18:26:59.950105Z",
     "shell.execute_reply": "2022-09-20T18:26:59.949274Z"
    },
    "papermill": {
     "duration": 1.017233,
     "end_time": "2022-09-20T18:26:59.952412",
     "exception": false,
     "start_time": "2022-09-20T18:26:58.935179",
     "status": "completed"
    },
    "tags": []
   },
   "outputs": [
    {
     "data": {
      "image/png": "[encoded data removed]",
      "text/plain": [
       "<Figure size 1080x720 with 2 Axes>"
      ]
     },
     "metadata": {
      "needs_background": "light"
     },
     "output_type": "display_data"
    }
   ],
   "source": [
    "# Сorrelation matrix\n",
    "plt.figure(figsize=[15,10])\n",
    "sns.heatmap(songs.corr()) #annot = True\n",
    "plt.show()"
   ]
  },
  {
   "cell_type": "markdown",
   "id": "fdbd4746",
   "metadata": {
    "papermill": {
     "duration": 0.016795,
     "end_time": "2022-09-20T18:26:59.986313",
     "exception": false,
     "start_time": "2022-09-20T18:26:59.969518",
     "status": "completed"
    },
    "tags": []
   },
   "source": [
    "# **Modeling**"
   ]
  },
  {
   "cell_type": "code",
   "execution_count": 24,
   "id": "863324a0",
   "metadata": {
    "execution": {
     "iopub.execute_input": "2022-09-20T18:27:00.022864Z",
     "iopub.status.busy": "2022-09-20T18:27:00.021985Z",
     "iopub.status.idle": "2022-09-20T18:27:00.029687Z",
     "shell.execute_reply": "2022-09-20T18:27:00.028557Z"
    },
    "papermill": {
     "duration": 0.028349,
     "end_time": "2022-09-20T18:27:00.031952",
     "exception": false,
     "start_time": "2022-09-20T18:27:00.003603",
     "status": "completed"
    },
    "tags": []
   },
   "outputs": [
    {
     "data": {
      "text/plain": [
       "Index(['msno', 'song_id', 'source_system_tab', 'source_screen_name',\n",
       "       'source_type', 'target', 'song_length', 'genre_ids', 'artist_name',\n",
       "       'composer', 'lyricist', 'language', 'name', 'isrc', 'city', 'bd',\n",
       "       'gender', 'registered_via', 'registration_init_time', 'expiration_date',\n",
       "       'registration_init_time_year', 'registration_init_time_month',\n",
       "       'registration_init_time_day', 'expiration_date_year',\n",
       "       'expiration_date_month', 'expiration_date_day'],\n",
       "      dtype='object')"
      ]
     },
     "execution_count": 24,
     "metadata": {},
     "output_type": "execute_result"
    }
   ],
   "source": [
    "songs.columns"
   ]
  },
  {
   "cell_type": "code",
   "execution_count": 25,
   "id": "1164ce52",
   "metadata": {
    "execution": {
     "iopub.execute_input": "2022-09-20T18:27:00.068688Z",
     "iopub.status.busy": "2022-09-20T18:27:00.068048Z",
     "iopub.status.idle": "2022-09-20T18:27:00.126931Z",
     "shell.execute_reply": "2022-09-20T18:27:00.125729Z"
    },
    "papermill": {
     "duration": 0.080334,
     "end_time": "2022-09-20T18:27:00.129733",
     "exception": false,
     "start_time": "2022-09-20T18:27:00.049399",
     "status": "completed"
    },
    "tags": []
   },
   "outputs": [],
   "source": [
    "X = songs.drop('target', axis = 1)\n",
    "y = songs['target']\n",
    "X_train, X_val, y_train, y_val = train_test_split(X, y, test_size = 0.25, random_state = 0)"
   ]
  },
  {
   "cell_type": "code",
   "execution_count": 26,
   "id": "513c7bd2",
   "metadata": {
    "execution": {
     "iopub.execute_input": "2022-09-20T18:27:00.166084Z",
     "iopub.status.busy": "2022-09-20T18:27:00.165659Z",
     "iopub.status.idle": "2022-09-20T18:27:00.175159Z",
     "shell.execute_reply": "2022-09-20T18:27:00.174051Z"
    },
    "papermill": {
     "duration": 0.030191,
     "end_time": "2022-09-20T18:27:00.177299",
     "exception": false,
     "start_time": "2022-09-20T18:27:00.147108",
     "status": "completed"
    },
    "tags": []
   },
   "outputs": [],
   "source": [
    "def model_with(model_name, X_train, X_val, y_train, y_val) :\n",
    "    print(\"==================================================\")\n",
    "    print(\"Modeling with :\", model_name)\n",
    "    print()\n",
    "        \n",
    "    if model_name == \"Random Forest Classifier\" :\n",
    "        model = RandomForestClassifier(\n",
    "            n_estimators=1000, \n",
    "        )\n",
    "    elif model_name == \"Extra Trees Classifier\" :\n",
    "        model = ExtraTreesClassifier(\n",
    "            n_estimators=1000, \n",
    "        )\n",
    "    elif model_name == \"LightGBM Classifier\" :\n",
    "        model = lgbm.LGBMClassifier(\n",
    "            n_estimators=1000, \n",
    "        )\n",
    "    elif model_name == \"XGBoost Classifier\" :\n",
    "        model = xgb.XGBClassifier(\n",
    "            n_estimators=1000, \n",
    "        )\n",
    "    elif model_name == \"CatBoost Classifier\" :\n",
    "        model = cb.CatBoostClassifier(\n",
    "            n_estimators=1000, \n",
    "            verbose=0\n",
    "        )\n",
    "    else :\n",
    "        print(\"Model not found in function.\")\n",
    "        \n",
    "    model.fit(X_train, y_train)\n",
    "    \n",
    "    val_pred = model.predict(X_val)\n",
    "    print(classification_report(y_val, val_pred))\n",
    "    print()\n",
    "    print(\"Accuracy :\", accuracy_score(y_val, val_pred))\n",
    "    print(\"ROC :\", roc_auc_score(y_val, val_pred))\n",
    "    \n",
    "    print(\"==================================================\")\n",
    "    print()"
   ]
  },
  {
   "cell_type": "code",
   "execution_count": 27,
   "id": "d2267200",
   "metadata": {
    "execution": {
     "iopub.execute_input": "2022-09-20T18:27:00.214032Z",
     "iopub.status.busy": "2022-09-20T18:27:00.213297Z",
     "iopub.status.idle": "2022-09-20T18:37:34.219278Z",
     "shell.execute_reply": "2022-09-20T18:37:34.216882Z"
    },
    "papermill": {
     "duration": 634.028498,
     "end_time": "2022-09-20T18:37:34.222813",
     "exception": false,
     "start_time": "2022-09-20T18:27:00.194315",
     "status": "completed"
    },
    "tags": []
   },
   "outputs": [
    {
     "name": "stdout",
     "output_type": "stream",
     "text": [
      "==================================================\n",
      "Modeling with : Random Forest Classifier\n",
      "\n",
      "              precision    recall  f1-score   support\n",
      "\n",
      "           0       0.76      0.57      0.65      6176\n",
      "           1       0.87      0.94      0.90     18824\n",
      "\n",
      "    accuracy                           0.85     25000\n",
      "   macro avg       0.82      0.75      0.78     25000\n",
      "weighted avg       0.84      0.85      0.84     25000\n",
      "\n",
      "\n",
      "Accuracy : 0.84968\n",
      "ROC : 0.7548869993437988\n",
      "==================================================\n",
      "\n",
      "==================================================\n",
      "Modeling with : Extra Trees Classifier\n",
      "\n",
      "              precision    recall  f1-score   support\n",
      "\n",
      "           0       0.74      0.59      0.66      6176\n",
      "           1       0.87      0.93      0.90     18824\n",
      "\n",
      "    accuracy                           0.85     25000\n",
      "   macro avg       0.81      0.76      0.78     25000\n",
      "weighted avg       0.84      0.85      0.84     25000\n",
      "\n",
      "\n",
      "Accuracy : 0.84752\n",
      "ROC : 0.7610682000598948\n",
      "==================================================\n",
      "\n",
      "==================================================\n",
      "Modeling with : LightGBM Classifier\n",
      "\n",
      "              precision    recall  f1-score   support\n",
      "\n",
      "           0       0.75      0.54      0.63      6176\n",
      "           1       0.86      0.94      0.90     18824\n",
      "\n",
      "    accuracy                           0.84     25000\n",
      "   macro avg       0.81      0.74      0.76     25000\n",
      "weighted avg       0.83      0.84      0.83     25000\n",
      "\n",
      "\n",
      "Accuracy : 0.84176\n",
      "ROC : 0.7387484131711475\n",
      "==================================================\n",
      "\n",
      "==================================================\n",
      "Modeling with : XGBoost Classifier\n",
      "\n",
      "              precision    recall  f1-score   support\n",
      "\n",
      "           0       0.73      0.57      0.64      6176\n",
      "           1       0.87      0.93      0.90     18824\n",
      "\n",
      "    accuracy                           0.84     25000\n",
      "   macro avg       0.80      0.75      0.77     25000\n",
      "weighted avg       0.83      0.84      0.83     25000\n",
      "\n",
      "\n",
      "Accuracy : 0.84132\n",
      "ROC : 0.751783427726483\n",
      "==================================================\n",
      "\n",
      "==================================================\n",
      "Modeling with : CatBoost Classifier\n",
      "\n",
      "              precision    recall  f1-score   support\n",
      "\n",
      "           0       0.75      0.47      0.58      6176\n",
      "           1       0.84      0.95      0.89     18824\n",
      "\n",
      "    accuracy                           0.83     25000\n",
      "   macro avg       0.80      0.71      0.74     25000\n",
      "weighted avg       0.82      0.83      0.82     25000\n",
      "\n",
      "\n",
      "Accuracy : 0.83064\n",
      "ROC : 0.7088983801959354\n",
      "==================================================\n",
      "\n"
     ]
    }
   ],
   "source": [
    "models = [\"Random Forest Classifier\", \"Extra Trees Classifier\", \"LightGBM Classifier\", \"XGBoost Classifier\", \"CatBoost Classifier\"]\n",
    "for i in models :\n",
    "    model_with(i, X_train, X_val, y_train, y_val)"
   ]
  },
  {
   "cell_type": "markdown",
   "id": "25f65004",
   "metadata": {
    "papermill": {
     "duration": 0.017121,
     "end_time": "2022-09-20T18:37:34.258424",
     "exception": false,
     "start_time": "2022-09-20T18:37:34.241303",
     "status": "completed"
    },
    "tags": []
   },
   "source": [
    "# **Random Forest with Class weights**"
   ]
  },
  {
   "cell_type": "code",
   "execution_count": 28,
   "id": "c7e4d773",
   "metadata": {
    "execution": {
     "iopub.execute_input": "2022-09-20T18:37:34.295909Z",
     "iopub.status.busy": "2022-09-20T18:37:34.295454Z",
     "iopub.status.idle": "2022-09-20T18:43:04.458070Z",
     "shell.execute_reply": "2022-09-20T18:43:04.456801Z"
    },
    "papermill": {
     "duration": 330.199122,
     "end_time": "2022-09-20T18:43:04.475279",
     "exception": false,
     "start_time": "2022-09-20T18:37:34.276157",
     "status": "completed"
    },
    "tags": []
   },
   "outputs": [
    {
     "data": {
      "text/plain": [
       "RandomForestClassifier(class_weight={0: 1.0050505050505052,\n",
       "                                     1: 0.9949494949494948},\n",
       "                       n_estimators=1000)"
      ]
     },
     "execution_count": 28,
     "metadata": {},
     "output_type": "execute_result"
    }
   ],
   "source": [
    "rf = RandomForestClassifier(\n",
    "        n_estimators = 1000,\n",
    "        class_weight={0: 1.0050505050505052, 1: 0.9949494949494948}\n",
    ")\n",
    "rf.fit(X_train, y_train)"
   ]
  },
  {
   "cell_type": "code",
   "execution_count": 29,
   "id": "a9c95ad2",
   "metadata": {
    "execution": {
     "iopub.execute_input": "2022-09-20T18:43:04.512836Z",
     "iopub.status.busy": "2022-09-20T18:43:04.512425Z",
     "iopub.status.idle": "2022-09-20T18:43:13.220054Z",
     "shell.execute_reply": "2022-09-20T18:43:13.218534Z"
    },
    "papermill": {
     "duration": 8.730216,
     "end_time": "2022-09-20T18:43:13.223061",
     "exception": false,
     "start_time": "2022-09-20T18:43:04.492845",
     "status": "completed"
    },
    "tags": []
   },
   "outputs": [
    {
     "name": "stdout",
     "output_type": "stream",
     "text": [
      "Accuracy : 0.84872\n"
     ]
    }
   ],
   "source": [
    "val_pred = rf.predict(X_val)\n",
    "print(\"Accuracy :\", accuracy_score(y_val, val_pred))"
   ]
  },
  {
   "cell_type": "code",
   "execution_count": 30,
   "id": "63a6a14d",
   "metadata": {
    "execution": {
     "iopub.execute_input": "2022-09-20T18:43:13.261076Z",
     "iopub.status.busy": "2022-09-20T18:43:13.260021Z",
     "iopub.status.idle": "2022-09-20T18:48:48.812296Z",
     "shell.execute_reply": "2022-09-20T18:48:48.810754Z"
    },
    "papermill": {
     "duration": 335.591025,
     "end_time": "2022-09-20T18:48:48.832153",
     "exception": false,
     "start_time": "2022-09-20T18:43:13.241128",
     "status": "completed"
    },
    "tags": []
   },
   "outputs": [
    {
     "name": "stdout",
     "output_type": "stream",
     "text": [
      "Accuracy : 0.84844\n"
     ]
    }
   ],
   "source": [
    "# without classweights\n",
    "rf = RandomForestClassifier(\n",
    "        n_estimators = 1000\n",
    ")\n",
    "rf.fit(X_train, y_train)\n",
    "val_pred = rf.predict(X_val)\n",
    "print(\"Accuracy :\", accuracy_score(y_val, val_pred))"
   ]
  },
  {
   "cell_type": "markdown",
   "id": "5c4c13e8",
   "metadata": {
    "papermill": {
     "duration": 0.01776,
     "end_time": "2022-09-20T18:48:48.870296",
     "exception": false,
     "start_time": "2022-09-20T18:48:48.852536",
     "status": "completed"
    },
    "tags": []
   },
   "source": [
    "## *Thanks for cheking this notebook!*"
   ]
  }
 ],
 "metadata": {
  "kernelspec": {
   "display_name": "Python 3",
   "language": "python",
   "name": "python3"
  },
  "language_info": {
   "codemirror_mode": {
    "name": "ipython",
    "version": 3
   },
   "file_extension": ".py",
   "mimetype": "text/x-python",
   "name": "python",
   "nbconvert_exporter": "python",
   "pygments_lexer": "ipython3",
   "version": "3.7.12"
  },
  "papermill": {
   "default_parameters": {},
   "duration": 1414.875167,
   "end_time": "2022-09-20T18:48:50.821391",
   "environment_variables": {},
   "exception": null,
   "input_path": "__notebook__.ipynb",
   "output_path": "__notebook__.ipynb",
   "parameters": {},
   "start_time": "2022-09-20T18:25:15.946224",
   "version": "2.3.4"
  }
 },
 "nbformat": 4,
 "nbformat_minor": 5
}
