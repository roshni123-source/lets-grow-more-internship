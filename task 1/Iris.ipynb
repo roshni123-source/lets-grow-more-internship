{
 "cells": [
  {
   "cell_type": "code",
   "execution_count": 1,
   "metadata": {},
   "outputs": [],
   "source": [
    "import cv2\n",
    "import numpy as np"
   ]
  },
  {
   "cell_type": "code",
   "execution_count": 2,
   "metadata": {},
   "outputs": [],
   "source": [
    "video = cv2.VideoCapture('video.mp4')\n",
    "image = cv2.imread('Image.jpg')\n",
    "cv2.imshow(\"image\",image)"
   ]
  },
  {
   "cell_type": "code",
   "execution_count": 4,
   "metadata": {},
   "outputs": [
    {
     "ename": "error",
     "evalue": "OpenCV(4.8.0) D:\\a\\opencv-python\\opencv-python\\opencv\\modules\\imgproc\\src\\color.cpp:182: error: (-215:Assertion failed) !_src.empty() in function 'cv::cvtColor'\n",
     "output_type": "error",
     "traceback": [
      "\u001b[1;31m---------------------------------------------------------------------------\u001b[0m",
      "\u001b[1;31merror\u001b[0m                                     Traceback (most recent call last)",
      "\u001b[1;32mc:\\Users\\HP\\OneDrive\\Desktop\\AI Trade\\Task1.ipynb Cell 3\u001b[0m in \u001b[0;36m4\n\u001b[0;32m      <a href='vscode-notebook-cell:/c%3A/Users/HP/OneDrive/Desktop/AI%20Trade/Task1.ipynb#W2sZmlsZQ%3D%3D?line=1'>2</a>\u001b[0m ret, frame \u001b[39m=\u001b[39m video\u001b[39m.\u001b[39mread()\n\u001b[0;32m      <a href='vscode-notebook-cell:/c%3A/Users/HP/OneDrive/Desktop/AI%20Trade/Task1.ipynb#W2sZmlsZQ%3D%3D?line=2'>3</a>\u001b[0m image \u001b[39m=\u001b[39m cv2\u001b[39m.\u001b[39mresize(image, (\u001b[39m1280\u001b[39m,\u001b[39m720\u001b[39m))\n\u001b[1;32m----> <a href='vscode-notebook-cell:/c%3A/Users/HP/OneDrive/Desktop/AI%20Trade/Task1.ipynb#W2sZmlsZQ%3D%3D?line=3'>4</a>\u001b[0m hsv \u001b[39m=\u001b[39m cv2\u001b[39m.\u001b[39;49mcvtColor(frame, cv2\u001b[39m.\u001b[39;49mCOLOR_BGR2HSV)\n\u001b[0;32m      <a href='vscode-notebook-cell:/c%3A/Users/HP/OneDrive/Desktop/AI%20Trade/Task1.ipynb#W2sZmlsZQ%3D%3D?line=5'>6</a>\u001b[0m \u001b[39m#Setting the color of green to remove that\u001b[39;00m\n\u001b[0;32m      <a href='vscode-notebook-cell:/c%3A/Users/HP/OneDrive/Desktop/AI%20Trade/Task1.ipynb#W2sZmlsZQ%3D%3D?line=6'>7</a>\u001b[0m l_g \u001b[39m=\u001b[39m np\u001b[39m.\u001b[39marray([\u001b[39m32\u001b[39m,\u001b[39m94\u001b[39m,\u001b[39m132\u001b[39m])\n",
      "\u001b[1;31merror\u001b[0m: OpenCV(4.8.0) D:\\a\\opencv-python\\opencv-python\\opencv\\modules\\imgproc\\src\\color.cpp:182: error: (-215:Assertion failed) !_src.empty() in function 'cv::cvtColor'\n"
     ]
    }
   ],
   "source": [
    "while True:\n",
    "    ret, frame = video.read()\n",
    "    image = cv2.resize(image, (1280,720))\n",
    "    hsv = cv2.cvtColor(frame, cv2.COLOR_BGR2HSV)\n",
    "    \n",
    "    #Setting the color of green to remove that\n",
    "    l_g = np.array([32,94,132])\n",
    "    u_g = np.array([179,255,255])\n",
    "    \n",
    "    mask= cv2.inRange(hsv, l_g, u_g)\n",
    "    res = cv2.bitwise_and(frame, frame, mask=mask)\n",
    "    \n",
    "    f= frame-res\n",
    "    green_sc = np.where(f==0, image, f)\n",
    "    \n",
    "    cv2.imshow('Final', green_sc)\n",
    "    \n",
    "    k = cv2.waitKey(1)\n",
    "    if k==ord('q'):\n",
    "        break\n",
    "video.release()\n",
    "cv2.destroyAllWindows()"
   ]
  },
  {
   "cell_type": "code",
   "execution_count": 2,
   "metadata": {},
   "outputs": [
    {
     "name": "stdout",
     "output_type": "stream",
     "text": [
      "0 1\n",
      "1 2\n",
      "2 3\n",
      "3 4\n"
     ]
    }
   ],
   "source": [
    "numbers=[1,2,3,4]\n",
    "for i, num in enumerate(numbers):\n",
    " print(i, num)"
   ]
  },
  {
   "cell_type": "code",
   "execution_count": 10,
   "metadata": {},
   "outputs": [
    {
     "name": "stdout",
     "output_type": "stream",
     "text": [
      "Cannot divide by zero\n"
     ]
    }
   ],
   "source": [
    "try:\n",
    " # code that may raise an exception\n",
    " number = int(input(\"Enter a number: \"))\n",
    " print(10/number)\n",
    "except ZeroDivisionError:\n",
    " # code to handle the exception\n",
    " print(\"Cannot divide by zero\")"
   ]
  },
  {
   "cell_type": "code",
   "execution_count": null,
   "metadata": {},
   "outputs": [],
   "source": []
  }
 ],
 "metadata": {
  "kernelspec": {
   "display_name": "Python 3",
   "language": "python",
   "name": "python3"
  },
  "language_info": {
   "codemirror_mode": {
    "name": "ipython",
    "version": 3
   },
   "file_extension": ".py",
   "mimetype": "text/x-python",
   "name": "python",
   "nbconvert_exporter": "python",
   "pygments_lexer": "ipython3",
   "version": "3.10.7"
  },
  "orig_nbformat": 4
 },
 "nbformat": 4,
 "nbformat_minor": 2
}
