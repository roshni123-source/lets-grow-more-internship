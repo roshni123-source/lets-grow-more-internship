{
  "nbformat": 4,
  "nbformat_minor": 0,
  "metadata": {
    "colab": {
      "provenance": [],
      "collapsed_sections": []
    },
    "kernelspec": {
      "name": "python3",
      "display_name": "Python 3"
    },
    "language_info": {
      "name": "python"
    }
  },
  "cells": [
    {
      "cell_type": "code",
      "execution_count": 25,
      "metadata": {
        "id": "eXXXAZ2fOHGU"
      },
      "outputs": [],
      "source": [
        "from keras.layers.pooling import MaxPooling2D\n",
        "import pandas as pd\n",
        "import tensorflow as tf\n",
        "from keras.models import Sequential\n",
        "from keras.layers import Dense, Conv2D, Flatten, MaxPooling2D\n",
        "# from keras.preprocessing import sequence\n",
        "# from keras.layers.embeddings import Embedding"
      ]
    },
    {
      "cell_type": "code",
      "source": [
        "from keras.datasets import  fashion_mnist\n",
        "(training_images,training_labels),(testing_images,testing_labels)=fashion_mnist.load_data()"
      ],
      "metadata": {
        "id": "2j3sOn6nPERC"
      },
      "execution_count": 26,
      "outputs": []
    },
    {
      "cell_type": "code",
      "source": [
        "print(training_images.shape)\n",
        "# print(\"x_test shape\",x_test.shape)\n",
        "# print(\"y_train shape\",y_train.shape)\n",
        "# print(\"y_test shape\",y_test.shape)"
      ],
      "metadata": {
        "id": "bmlaNm03Yv6D",
        "colab": {
          "base_uri": "https://localhost:8080/"
        },
        "outputId": "d2e9cf17-5a0b-4676-c6a6-8a5540638f4c"
      },
      "execution_count": 27,
      "outputs": [
        {
          "output_type": "stream",
          "name": "stdout",
          "text": [
            "(60000, 28, 28)\n"
          ]
        }
      ]
    },
    {
      "cell_type": "code",
      "source": [
        "import numpy as np\n",
        "import matplotlib.pyplot as plt\n",
        "index=780\n",
        "np.set_printoptions(linewidth=100)\n",
        "print(training_labels[index])\n",
        "print(training_images[index])\n",
        "plt.imshow(training_images[index])\n"
      ],
      "metadata": {
        "colab": {
          "base_uri": "https://localhost:8080/",
          "height": 1000
        },
        "id": "G3aou49rPmM2",
        "outputId": "dfbacc64-b2a8-40e0-c96c-48088399c51a"
      },
      "execution_count": 28,
      "outputs": [
        {
          "output_type": "stream",
          "name": "stdout",
          "text": [
            "0\n",
            "[[  0   0   0   0   0   0   0   3   1   0   0  48 221 191 199 190 234  13   0   0   1   2   0   1\n",
            "    0   0   0   0]\n",
            " [  0   0   0   0   0   0   0   0   0   0  28 233 252 235 193 250 249 233  31   0   0   0   1   0\n",
            "    0   0   0   0]\n",
            " [  0   0   0   0   1   0   0   0  86 185 247 227 227 212 175 247 222 226 255 188  71   0   0   0\n",
            "    0   0   0   0]\n",
            " [  0   0   0   0   1   0  68 203 227 220 213 218 219 237 247 237 220 217 215 219 227 186  49   0\n",
            "    0   0   0   0]\n",
            " [  0   0   0   0   0   7 224 218 208 209 202 211 212 213 191 208 212 210 209 209 206 221 223  14\n",
            "    0   0   0   0]\n",
            " [  0   0   0   0   0 152 231 208 213 221 233 234 216 211 206 211 204 208 210 209 210 208 228 181\n",
            "    0   0   0   0]\n",
            " [  0   0   0   0   0 146 243 210 218 189 148 118 181 224 206 211 210 209 209 211 207 211 239 160\n",
            "    0   0   0   0]\n",
            " [  0   0   0   0   4 112 177 255 214 203 180 188 211 213 206 210 209 207 208 209 205 254 135 127\n",
            "   21   0   0   0]\n",
            " [  0   0   0   0   0 255  95 166 230 223 227 223 214 211 213 214 211 208 209 208 221 175 118 255\n",
            "   26   0   0   0]\n",
            " [  0   0   0   0  31 225 232 165 209 221 215 213 212 215 215 215 214 216 216 219 205 215 236 228\n",
            "   56   0   0   0]\n",
            " [  0   0   0   0  77 226 214 241 218 213 218 216 214 215 214 214 214 213 218 211 223 237 213 229\n",
            "  101   0   0   0]\n",
            " [  0   0   0   0 121 243 236 253 228 212 216 218 213 213 214 214 214 212 217 216 227 251 238 231\n",
            "  127   0   0   0]\n",
            " [  0   0   0   0   0  59 146 133 191 231 213 219 213 213 214 214 214 216 210 253  97  74  88  18\n",
            "    0   0   0   0]\n",
            " [  0   0   0   0   0   0   0   0 169 223 210 217 213 216 215 215 215 215 213 255  81   0   0   0\n",
            "    0   0   0   0]\n",
            " [  0   0   0   0   3   4   2   0 155 221 213 215 215 214 215 215 215 216 211 226  89   0   9   3\n",
            "    1   0   0   0]\n",
            " [  0   0   0   0   0   0   2   0 107 225 210 213 216 214 215 215 214 220 211 224  80   0   4   0\n",
            "    0   0   0   0]\n",
            " [  0   0   0   0   0   0   1   0 128 225 206 215 215 215 215 215 215 218 211 228  83   0   5   0\n",
            "    0   0   0   0]\n",
            " [  0   0   0   0   0   0   0   0 162 224 208 217 215 216 215 215 215 217 217 232  92   0   3   0\n",
            "    0   0   0   0]\n",
            " [  0   0   0   0   0   0   0   0 181 220 214 217 216 217 214 216 215 217 221 227 144   0   0   0\n",
            "    0   0   0   0]\n",
            " [  0   0   0   0   0   0   0   0 196 217 215 218 218 216 216 214 213 219 221 219 199   0   0   0\n",
            "    0   0   0   0]\n",
            " [  0   0   0   0   0   2   0   0 218 215 210 216 218 218 219 214 214 223 219 214 229   0   0   2\n",
            "    0   0   0   0]\n",
            " [  0   0   0   0   0   5   0  18 210 210 214 213 215 218 216 214 220 228 219 211 215  18   0   5\n",
            "    0   0   0   0]\n",
            " [  0   0   0   0   0   7   0  44 220 208 216 217 213 215 213 217 229 222 218 209 224  53   0   6\n",
            "    0   0   0   0]\n",
            " [  0   0   0   0   0   3   0  99 224 209 212 217 219 216 211 225 216 220 217 210 228  93   0   2\n",
            "    0   0   0   0]\n",
            " [  0   0   0   0   0   2   0 132 221 211 218 214 221 218 222 222 228 227 216 210 225  84   0   7\n",
            "    0   0   0   0]\n",
            " [  0   0   0   0   0   7   0 108 222 206 214 209 207 215 221 227 220 213 215 211 231 117   0   8\n",
            "    0   0   0   0]\n",
            " [  0   0   0   0   0   7   0 102 238 225 230 255 255 255 255 255 254 255 230 221 217 118   0   6\n",
            "    0   0   0   0]\n",
            " [  0   0   0   0   0   2   0   1  58  90 112 115 124 133 130 114 107  91  60  19   0   0   0   0\n",
            "    0   0   0   0]]\n"
          ]
        },
        {
          "output_type": "execute_result",
          "data": {
            "text/plain": [
              "<matplotlib.image.AxesImage at 0x7fe749070f10>"
            ]
          },
          "metadata": {},
          "execution_count": 28
        },
        {
          "output_type": "display_data",
          "data": {
            "text/plain": [
              "<Figure size 432x288 with 1 Axes>"
            ],
            "image/png": "[encoded data removed]"
          },
          "metadata": {
            "needs_background": "light"
          }
        }
      ]
    },
    {
      "cell_type": "code",
      "source": [
        "training_images=training_images/255.0\n",
        "testing_images=testing_images/255.0\n",
        "testing_images"
      ],
      "metadata": {
        "colab": {
          "base_uri": "https://localhost:8080/"
        },
        "id": "2jcLayFWiZG2",
        "outputId": "8bbc8155-9ffa-496f-fdf9-2bf8667727dc"
      },
      "execution_count": 29,
      "outputs": [
        {
          "output_type": "execute_result",
          "data": {
            "text/plain": [
              "array([[[0., 0., 0., ..., 0., 0., 0.],\n",
              "        [0., 0., 0., ..., 0., 0., 0.],\n",
              "        [0., 0., 0., ..., 0., 0., 0.],\n",
              "        ...,\n",
              "        [0., 0., 0., ..., 0., 0., 0.],\n",
              "        [0., 0., 0., ..., 0., 0., 0.],\n",
              "        [0., 0., 0., ..., 0., 0., 0.]],\n",
              "\n",
              "       [[0., 0., 0., ..., 0., 0., 0.],\n",
              "        [0., 0., 0., ..., 0., 0., 0.],\n",
              "        [0., 0., 0., ..., 0., 0., 0.],\n",
              "        ...,\n",
              "        [0., 0., 0., ..., 0., 0., 0.],\n",
              "        [0., 0., 0., ..., 0., 0., 0.],\n",
              "        [0., 0., 0., ..., 0., 0., 0.]],\n",
              "\n",
              "       [[0., 0., 0., ..., 0., 0., 0.],\n",
              "        [0., 0., 0., ..., 0., 0., 0.],\n",
              "        [0., 0., 0., ..., 0., 0., 0.],\n",
              "        ...,\n",
              "        [0., 0., 0., ..., 0., 0., 0.],\n",
              "        [0., 0., 0., ..., 0., 0., 0.],\n",
              "        [0., 0., 0., ..., 0., 0., 0.]],\n",
              "\n",
              "       ...,\n",
              "\n",
              "       [[0., 0., 0., ..., 0., 0., 0.],\n",
              "        [0., 0., 0., ..., 0., 0., 0.],\n",
              "        [0., 0., 0., ..., 0., 0., 0.],\n",
              "        ...,\n",
              "        [0., 0., 0., ..., 0., 0., 0.],\n",
              "        [0., 0., 0., ..., 0., 0., 0.],\n",
              "        [0., 0., 0., ..., 0., 0., 0.]],\n",
              "\n",
              "       [[0., 0., 0., ..., 0., 0., 0.],\n",
              "        [0., 0., 0., ..., 0., 0., 0.],\n",
              "        [0., 0., 0., ..., 0., 0., 0.],\n",
              "        ...,\n",
              "        [0., 0., 0., ..., 0., 0., 0.],\n",
              "        [0., 0., 0., ..., 0., 0., 0.],\n",
              "        [0., 0., 0., ..., 0., 0., 0.]],\n",
              "\n",
              "       [[0., 0., 0., ..., 0., 0., 0.],\n",
              "        [0., 0., 0., ..., 0., 0., 0.],\n",
              "        [0., 0., 0., ..., 0., 0., 0.],\n",
              "        ...,\n",
              "        [0., 0., 0., ..., 0., 0., 0.],\n",
              "        [0., 0., 0., ..., 0., 0., 0.],\n",
              "        [0., 0., 0., ..., 0., 0., 0.]]])"
            ]
          },
          "metadata": {},
          "execution_count": 29
        }
      ]
    },
    {
      "cell_type": "code",
      "source": [
        "input_shape=(28,28,1)\n",
        "# create a neural network\n",
        "model=Sequential()\n",
        "model.add(Conv2D(16,kernel_size=(3,3),input_shape=input_shape))\n",
        "model.add(MaxPooling2D(pool_size=(2,2)))\n",
        "model.add(Conv2D(32,kernel_size=(3,3),input_shape=input_shape))\n",
        "model.add(MaxPooling2D(pool_size=(2,2)))\n",
        "model.add(Conv2D(64,kernel_size=(3,3),input_shape=input_shape))\n",
        "model.add(MaxPooling2D(pool_size=(2,2)))\n",
        "model.add(Flatten())\n",
        "model.add(Dense(128,activation='relu'))\n",
        "model.add(Dense(1,activation='softmax'))\n",
        "\n"
      ],
      "metadata": {
        "id": "vRJOYrI7b0_M"
      },
      "execution_count": 30,
      "outputs": []
    },
    {
      "cell_type": "code",
      "source": [
        "model.compile(loss='categorical_crossentropy',\n",
        "              optimizer='Adam',\n",
        "              metrics=['accuracy'])\n",
        "print(model.summary())"
      ],
      "metadata": {
        "colab": {
          "base_uri": "https://localhost:8080/"
        },
        "id": "MD3oN6BSLpzA",
        "outputId": "5945066f-f4bd-477f-bf4c-271b2fa61dc2"
      },
      "execution_count": 31,
      "outputs": [
        {
          "output_type": "stream",
          "name": "stdout",
          "text": [
            "Model: \"sequential_4\"\n",
            "_________________________________________________________________\n",
            " Layer (type)                Output Shape              Param #   \n",
            "=================================================================\n",
            " conv2d_9 (Conv2D)           (None, 26, 26, 16)        160       \n",
            "                                                                 \n",
            " max_pooling2d_9 (MaxPooling  (None, 13, 13, 16)       0         \n",
            " 2D)                                                             \n",
            "                                                                 \n",
            " conv2d_10 (Conv2D)          (None, 11, 11, 32)        4640      \n",
            "                                                                 \n",
            " max_pooling2d_10 (MaxPoolin  (None, 5, 5, 32)         0         \n",
            " g2D)                                                            \n",
            "                                                                 \n",
            " conv2d_11 (Conv2D)          (None, 3, 3, 64)          18496     \n",
            "                                                                 \n",
            " max_pooling2d_11 (MaxPoolin  (None, 1, 1, 64)         0         \n",
            " g2D)                                                            \n",
            "                                                                 \n",
            " flatten_4 (Flatten)         (None, 64)                0         \n",
            "                                                                 \n",
            " dense_7 (Dense)             (None, 128)               8320      \n",
            "                                                                 \n",
            " dense_8 (Dense)             (None, 1)                 129       \n",
            "                                                                 \n",
            "=================================================================\n",
            "Total params: 31,745\n",
            "Trainable params: 31,745\n",
            "Non-trainable params: 0\n",
            "_________________________________________________________________\n",
            "None\n"
          ]
        }
      ]
    },
    {
      "cell_type": "code",
      "source": [
        "model.fit(training_images,training_labels,epochs=5)"
      ],
      "metadata": {
        "colab": {
          "base_uri": "https://localhost:8080/"
        },
        "id": "YrVlyJgIMEDC",
        "outputId": "ff13c302-ec98-4e9e-b54e-0d0cd9409abf"
      },
      "execution_count": 33,
      "outputs": [
        {
          "output_type": "stream",
          "name": "stdout",
          "text": [
            "Epoch 1/5\n",
            "1875/1875 [==============================] - 34s 18ms/step - loss: 0.0000e+00 - accuracy: 0.1000\n",
            "Epoch 2/5\n",
            "1875/1875 [==============================] - 36s 19ms/step - loss: 0.0000e+00 - accuracy: 0.1000\n",
            "Epoch 3/5\n",
            "1875/1875 [==============================] - 34s 18ms/step - loss: 0.0000e+00 - accuracy: 0.1000\n",
            "Epoch 4/5\n",
            "1875/1875 [==============================] - 36s 19ms/step - loss: 0.0000e+00 - accuracy: 0.1000\n",
            "Epoch 5/5\n",
            "1875/1875 [==============================] - 35s 18ms/step - loss: 0.0000e+00 - accuracy: 0.1000\n"
          ]
        },
        {
          "output_type": "execute_result",
          "data": {
            "text/plain": [
              "<keras.callbacks.History at 0x7fe74ed36a90>"
            ]
          },
          "metadata": {},
          "execution_count": 33
        }
      ]
    },
    {
      "cell_type": "code",
      "source": [
        "model.evaluate(testing_images,testing_labels)"
      ],
      "metadata": {
        "colab": {
          "base_uri": "https://localhost:8080/"
        },
        "id": "xHVqIt_CMENX",
        "outputId": "85f8936d-1793-4fc4-acbe-0fb06c3eb34e"
      },
      "execution_count": 34,
      "outputs": [
        {
          "output_type": "stream",
          "name": "stdout",
          "text": [
            "313/313 [==============================] - 3s 8ms/step - loss: 0.0000e+00 - accuracy: 0.1000\n"
          ]
        },
        {
          "output_type": "execute_result",
          "data": {
            "text/plain": [
              "[0.0, 0.10000000149011612]"
            ]
          },
          "metadata": {},
          "execution_count": 34
        }
      ]
    },
    {
      "cell_type": "code",
      "source": [],
      "metadata": {
        "id": "JF2qZiKuMEQ8"
      },
      "execution_count": null,
      "outputs": []
    }
  ]
}